{
 "cells": [
  {
   "cell_type": "code",
   "execution_count": 1,
   "id": "eaea8fc3",
   "metadata": {
    "execution": {
     "iopub.execute_input": "2023-06-16T09:17:32.163699Z",
     "iopub.status.busy": "2023-06-16T09:17:32.163321Z",
     "iopub.status.idle": "2023-06-16T09:17:49.056193Z",
     "shell.execute_reply": "2023-06-16T09:17:49.054946Z"
    },
    "papermill": {
     "duration": 16.900556,
     "end_time": "2023-06-16T09:17:49.058748",
     "exception": false,
     "start_time": "2023-06-16T09:17:32.158192",
     "status": "completed"
    },
    "tags": []
   },
   "outputs": [
    {
     "name": "stdout",
     "output_type": "stream",
     "text": [
      "Collecting mlflow\r\n",
      "  Downloading mlflow-2.4.1-py3-none-any.whl (18.1 MB)\r\n",
      "\u001b[2K     \u001b[90m━━━━━━━━━━━━━━━━━━━━━━━━━━━━━━━━━━━━━━━━\u001b[0m \u001b[32m18.1/18.1 MB\u001b[0m \u001b[31m39.4 MB/s\u001b[0m eta \u001b[36m0:00:00\u001b[0m\r\n",
      "\u001b[?25hRequirement already satisfied: click<9,>=7.0 in /opt/conda/lib/python3.10/site-packages (from mlflow) (8.1.3)\r\n",
      "Requirement already satisfied: cloudpickle<3 in /opt/conda/lib/python3.10/site-packages (from mlflow) (2.2.1)\r\n",
      "Collecting databricks-cli<1,>=0.8.7 (from mlflow)\r\n",
      "  Downloading databricks-cli-0.17.7.tar.gz (83 kB)\r\n",
      "\u001b[2K     \u001b[90m━━━━━━━━━━━━━━━━━━━━━━━━━━━━━━━━━━━━━━━━\u001b[0m \u001b[32m83.5/83.5 kB\u001b[0m \u001b[31m11.4 MB/s\u001b[0m eta \u001b[36m0:00:00\u001b[0m\r\n",
      "\u001b[?25h  Preparing metadata (setup.py) ... \u001b[?25l-\b \b\\\b \b|\b \bdone\r\n",
      "\u001b[?25hRequirement already satisfied: entrypoints<1 in /opt/conda/lib/python3.10/site-packages (from mlflow) (0.4)\r\n",
      "Requirement already satisfied: gitpython<4,>=2.1.0 in /opt/conda/lib/python3.10/site-packages (from mlflow) (3.1.31)\r\n",
      "Requirement already satisfied: pyyaml<7,>=5.1 in /opt/conda/lib/python3.10/site-packages (from mlflow) (5.4.1)\r\n",
      "Requirement already satisfied: protobuf<5,>=3.12.0 in /opt/conda/lib/python3.10/site-packages (from mlflow) (3.20.3)\r\n",
      "Requirement already satisfied: pytz<2024 in /opt/conda/lib/python3.10/site-packages (from mlflow) (2023.3)\r\n",
      "Requirement already satisfied: requests<3,>=2.17.3 in /opt/conda/lib/python3.10/site-packages (from mlflow) (2.28.2)\r\n",
      "Requirement already satisfied: packaging<24 in /opt/conda/lib/python3.10/site-packages (from mlflow) (21.3)\r\n",
      "Requirement already satisfied: importlib-metadata!=4.7.0,<7,>=3.7.0 in /opt/conda/lib/python3.10/site-packages (from mlflow) (5.2.0)\r\n",
      "Requirement already satisfied: sqlparse<1,>=0.4.0 in /opt/conda/lib/python3.10/site-packages (from mlflow) (0.4.4)\r\n",
      "Requirement already satisfied: alembic!=1.10.0,<2 in /opt/conda/lib/python3.10/site-packages (from mlflow) (1.11.1)\r\n",
      "Requirement already satisfied: docker<7,>=4.0.0 in /opt/conda/lib/python3.10/site-packages (from mlflow) (6.1.1)\r\n",
      "Requirement already satisfied: Flask<3 in /opt/conda/lib/python3.10/site-packages (from mlflow) (2.3.2)\r\n",
      "Requirement already satisfied: numpy<2 in /opt/conda/lib/python3.10/site-packages (from mlflow) (1.23.5)\r\n",
      "Requirement already satisfied: scipy<2 in /opt/conda/lib/python3.10/site-packages (from mlflow) (1.10.1)\r\n",
      "Requirement already satisfied: pandas<3 in /opt/conda/lib/python3.10/site-packages (from mlflow) (1.5.3)\r\n",
      "Collecting querystring-parser<2 (from mlflow)\r\n",
      "  Downloading querystring_parser-1.2.4-py2.py3-none-any.whl (7.9 kB)\r\n",
      "Requirement already satisfied: sqlalchemy<3,>=1.4.0 in /opt/conda/lib/python3.10/site-packages (from mlflow) (2.0.12)\r\n",
      "Requirement already satisfied: scikit-learn<2 in /opt/conda/lib/python3.10/site-packages (from mlflow) (1.2.2)\r\n",
      "Requirement already satisfied: pyarrow<13,>=4.0.0 in /opt/conda/lib/python3.10/site-packages (from mlflow) (11.0.0)\r\n",
      "Requirement already satisfied: markdown<4,>=3.3 in /opt/conda/lib/python3.10/site-packages (from mlflow) (3.4.3)\r\n",
      "Requirement already satisfied: matplotlib<4 in /opt/conda/lib/python3.10/site-packages (from mlflow) (3.6.3)\r\n",
      "Collecting gunicorn<21 (from mlflow)\r\n",
      "  Downloading gunicorn-20.1.0-py3-none-any.whl (79 kB)\r\n",
      "\u001b[2K     \u001b[90m━━━━━━━━━━━━━━━━━━━━━━━━━━━━━━━━━━━━━━━━\u001b[0m \u001b[32m79.5/79.5 kB\u001b[0m \u001b[31m11.2 MB/s\u001b[0m eta \u001b[36m0:00:00\u001b[0m\r\n",
      "\u001b[?25hRequirement already satisfied: Jinja2<4,>=2.11 in /opt/conda/lib/python3.10/site-packages (from mlflow) (3.1.2)\r\n",
      "Requirement already satisfied: Mako in /opt/conda/lib/python3.10/site-packages (from alembic!=1.10.0,<2->mlflow) (1.2.4)\r\n",
      "Requirement already satisfied: typing-extensions>=4 in /opt/conda/lib/python3.10/site-packages (from alembic!=1.10.0,<2->mlflow) (4.5.0)\r\n",
      "Requirement already satisfied: pyjwt>=1.7.0 in /opt/conda/lib/python3.10/site-packages (from databricks-cli<1,>=0.8.7->mlflow) (2.6.0)\r\n",
      "Requirement already satisfied: oauthlib>=3.1.0 in /opt/conda/lib/python3.10/site-packages (from databricks-cli<1,>=0.8.7->mlflow) (3.2.2)\r\n",
      "Requirement already satisfied: tabulate>=0.7.7 in /opt/conda/lib/python3.10/site-packages (from databricks-cli<1,>=0.8.7->mlflow) (0.9.0)\r\n",
      "Requirement already satisfied: six>=1.10.0 in /opt/conda/lib/python3.10/site-packages (from databricks-cli<1,>=0.8.7->mlflow) (1.16.0)\r\n",
      "Requirement already satisfied: urllib3<2.0.0,>=1.26.7 in /opt/conda/lib/python3.10/site-packages (from databricks-cli<1,>=0.8.7->mlflow) (1.26.15)\r\n",
      "Requirement already satisfied: websocket-client>=0.32.0 in /opt/conda/lib/python3.10/site-packages (from docker<7,>=4.0.0->mlflow) (1.5.1)\r\n",
      "Requirement already satisfied: Werkzeug>=2.3.3 in /opt/conda/lib/python3.10/site-packages (from Flask<3->mlflow) (2.3.6)\r\n",
      "Requirement already satisfied: itsdangerous>=2.1.2 in /opt/conda/lib/python3.10/site-packages (from Flask<3->mlflow) (2.1.2)\r\n",
      "Requirement already satisfied: blinker>=1.6.2 in /opt/conda/lib/python3.10/site-packages (from Flask<3->mlflow) (1.6.2)\r\n",
      "Requirement already satisfied: gitdb<5,>=4.0.1 in /opt/conda/lib/python3.10/site-packages (from gitpython<4,>=2.1.0->mlflow) (4.0.10)\r\n",
      "Requirement already satisfied: setuptools>=3.0 in /opt/conda/lib/python3.10/site-packages (from gunicorn<21->mlflow) (59.8.0)\r\n",
      "Requirement already satisfied: zipp>=0.5 in /opt/conda/lib/python3.10/site-packages (from importlib-metadata!=4.7.0,<7,>=3.7.0->mlflow) (3.15.0)\r\n",
      "Requirement already satisfied: MarkupSafe>=2.0 in /opt/conda/lib/python3.10/site-packages (from Jinja2<4,>=2.11->mlflow) (2.1.2)\r\n",
      "Requirement already satisfied: contourpy>=1.0.1 in /opt/conda/lib/python3.10/site-packages (from matplotlib<4->mlflow) (1.0.7)\r\n",
      "Requirement already satisfied: cycler>=0.10 in /opt/conda/lib/python3.10/site-packages (from matplotlib<4->mlflow) (0.11.0)\r\n",
      "Requirement already satisfied: fonttools>=4.22.0 in /opt/conda/lib/python3.10/site-packages (from matplotlib<4->mlflow) (4.39.3)\r\n",
      "Requirement already satisfied: kiwisolver>=1.0.1 in /opt/conda/lib/python3.10/site-packages (from matplotlib<4->mlflow) (1.4.4)\r\n",
      "Requirement already satisfied: pillow>=6.2.0 in /opt/conda/lib/python3.10/site-packages (from matplotlib<4->mlflow) (9.5.0)\r\n",
      "Requirement already satisfied: pyparsing>=2.2.1 in /opt/conda/lib/python3.10/site-packages (from matplotlib<4->mlflow) (3.0.9)\r\n",
      "Requirement already satisfied: python-dateutil>=2.7 in /opt/conda/lib/python3.10/site-packages (from matplotlib<4->mlflow) (2.8.2)\r\n",
      "Requirement already satisfied: charset-normalizer<4,>=2 in /opt/conda/lib/python3.10/site-packages (from requests<3,>=2.17.3->mlflow) (2.1.1)\r\n",
      "Requirement already satisfied: idna<4,>=2.5 in /opt/conda/lib/python3.10/site-packages (from requests<3,>=2.17.3->mlflow) (3.4)\r\n",
      "Requirement already satisfied: certifi>=2017.4.17 in /opt/conda/lib/python3.10/site-packages (from requests<3,>=2.17.3->mlflow) (2023.5.7)\r\n",
      "Requirement already satisfied: joblib>=1.1.1 in /opt/conda/lib/python3.10/site-packages (from scikit-learn<2->mlflow) (1.2.0)\r\n",
      "Requirement already satisfied: threadpoolctl>=2.0.0 in /opt/conda/lib/python3.10/site-packages (from scikit-learn<2->mlflow) (3.1.0)\r\n",
      "Requirement already satisfied: greenlet!=0.4.17 in /opt/conda/lib/python3.10/site-packages (from sqlalchemy<3,>=1.4.0->mlflow) (2.0.2)\r\n",
      "Requirement already satisfied: smmap<6,>=3.0.1 in /opt/conda/lib/python3.10/site-packages (from gitdb<5,>=4.0.1->gitpython<4,>=2.1.0->mlflow) (5.0.0)\r\n",
      "Building wheels for collected packages: databricks-cli\r\n",
      "  Building wheel for databricks-cli (setup.py) ... \u001b[?25l-\b \b\\\b \b|\b \b/\b \bdone\r\n",
      "\u001b[?25h  Created wheel for databricks-cli: filename=databricks_cli-0.17.7-py3-none-any.whl size=143882 sha256=3d6909a2170560606915d8271daa22f92116bb7c4bba4347ff0b7946abfb15d8\r\n",
      "  Stored in directory: /root/.cache/pip/wheels/ae/63/93/5402c1a09c1868a59d0b05013484e07af97a9d7b3dbd5bd39a\r\n",
      "Successfully built databricks-cli\r\n",
      "Installing collected packages: querystring-parser, gunicorn, databricks-cli, mlflow\r\n",
      "Successfully installed databricks-cli-0.17.7 gunicorn-20.1.0 mlflow-2.4.1 querystring-parser-1.2.4\r\n",
      "\u001b[33mWARNING: Running pip as the 'root' user can result in broken permissions and conflicting behaviour with the system package manager. It is recommended to use a virtual environment instead: https://pip.pypa.io/warnings/venv\u001b[0m\u001b[33m\r\n",
      "\u001b[0m"
     ]
    }
   ],
   "source": [
    "!pip install mlflow"
   ]
  },
  {
   "cell_type": "code",
   "execution_count": 2,
   "id": "8f9990f6",
   "metadata": {
    "execution": {
     "iopub.execute_input": "2023-06-16T09:17:49.072377Z",
     "iopub.status.busy": "2023-06-16T09:17:49.072071Z",
     "iopub.status.idle": "2023-06-16T09:17:58.000049Z",
     "shell.execute_reply": "2023-06-16T09:17:57.999172Z"
    },
    "papermill": {
     "duration": 8.937199,
     "end_time": "2023-06-16T09:17:58.002316",
     "exception": false,
     "start_time": "2023-06-16T09:17:49.065117",
     "status": "completed"
    },
    "tags": []
   },
   "outputs": [
    {
     "name": "stderr",
     "output_type": "stream",
     "text": [
      "/opt/conda/lib/python3.10/site-packages/tensorflow_io/python/ops/__init__.py:98: UserWarning: unable to load libtensorflow_io_plugins.so: unable to open file: libtensorflow_io_plugins.so, from paths: ['/opt/conda/lib/python3.10/site-packages/tensorflow_io/python/ops/libtensorflow_io_plugins.so']\n",
      "caused by: ['/opt/conda/lib/python3.10/site-packages/tensorflow_io/python/ops/libtensorflow_io_plugins.so: undefined symbol: _ZN3tsl6StatusC1EN10tensorflow5error4CodeESt17basic_string_viewIcSt11char_traitsIcEENS_14SourceLocationE']\n",
      "  warnings.warn(f\"unable to load libtensorflow_io_plugins.so: {e}\")\n",
      "/opt/conda/lib/python3.10/site-packages/tensorflow_io/python/ops/__init__.py:104: UserWarning: file system plugins are not loaded: unable to open file: libtensorflow_io.so, from paths: ['/opt/conda/lib/python3.10/site-packages/tensorflow_io/python/ops/libtensorflow_io.so']\n",
      "caused by: ['/opt/conda/lib/python3.10/site-packages/tensorflow_io/python/ops/libtensorflow_io.so: undefined symbol: _ZTVN10tensorflow13GcsFileSystemE']\n",
      "  warnings.warn(f\"file system plugins are not loaded: {e}\")\n"
     ]
    },
    {
     "data": {
      "text/plain": [
       "'2.12.0'"
      ]
     },
     "execution_count": 2,
     "metadata": {},
     "output_type": "execute_result"
    }
   ],
   "source": [
    "import tensorflow as tf\n",
    "import numpy as np\n",
    "import matplotlib.pyplot as plt\n",
    "from pathlib import Path\n",
    "from tensorflow import keras\n",
    "import mlflow\n",
    "\n",
    "import pandas as pd\n",
    "from plotly import express as px\n",
    "from plotly import graph_objects as go\n",
    "\n",
    "# Display\n",
    "from IPython.display import Image\n",
    "import matplotlib.pyplot as plt\n",
    "import matplotlib.cm as cm\n",
    "\n",
    "from tensorflow.keras.preprocessing.image import ImageDataGenerator\n",
    "from tensorflow.keras.layers import Conv1D, Conv2D, Conv3D, MaxPool2D, AveragePooling2D, Flatten, Dense\n",
    "from tensorflow.keras.models import Sequential\n",
    "\n",
    "from tensorflow.keras.losses import BinaryCrossentropy, SparseCategoricalCrossentropy\n",
    "from tensorflow.keras.metrics import BinaryAccuracy, SparseCategoricalAccuracy\n",
    "from tensorflow.keras.optimizers import Adam\n",
    "tf.__version__# Set your variables for your environment\n"
   ]
  },
  {
   "cell_type": "code",
   "execution_count": 3,
   "id": "76118544",
   "metadata": {
    "execution": {
     "iopub.execute_input": "2023-06-16T09:17:58.015808Z",
     "iopub.status.busy": "2023-06-16T09:17:58.015128Z",
     "iopub.status.idle": "2023-06-16T09:17:58.020077Z",
     "shell.execute_reply": "2023-06-16T09:17:58.019282Z"
    },
    "papermill": {
     "duration": 0.013828,
     "end_time": "2023-06-16T09:17:58.022146",
     "exception": false,
     "start_time": "2023-06-16T09:17:58.008318",
     "status": "completed"
    },
    "tags": []
   },
   "outputs": [],
   "source": [
    "import os\n",
    "import glob\n",
    "import pandas as pd"
   ]
  },
  {
   "cell_type": "code",
   "execution_count": 4,
   "id": "c4aab74c",
   "metadata": {
    "execution": {
     "iopub.execute_input": "2023-06-16T09:17:58.035144Z",
     "iopub.status.busy": "2023-06-16T09:17:58.034849Z",
     "iopub.status.idle": "2023-06-16T09:17:58.085157Z",
     "shell.execute_reply": "2023-06-16T09:17:58.084346Z"
    },
    "papermill": {
     "duration": 0.059024,
     "end_time": "2023-06-16T09:17:58.087068",
     "exception": false,
     "start_time": "2023-06-16T09:17:58.028044",
     "status": "completed"
    },
    "tags": []
   },
   "outputs": [
    {
     "data": {
      "text/html": [
       "<div>\n",
       "<style scoped>\n",
       "    .dataframe tbody tr th:only-of-type {\n",
       "        vertical-align: middle;\n",
       "    }\n",
       "\n",
       "    .dataframe tbody tr th {\n",
       "        vertical-align: top;\n",
       "    }\n",
       "\n",
       "    .dataframe thead th {\n",
       "        text-align: right;\n",
       "    }\n",
       "</style>\n",
       "<table border=\"1\" class=\"dataframe\">\n",
       "  <thead>\n",
       "    <tr style=\"text-align: right;\">\n",
       "      <th></th>\n",
       "      <th>class id</th>\n",
       "      <th>filepaths</th>\n",
       "      <th>labels</th>\n",
       "      <th>data set</th>\n",
       "    </tr>\n",
       "  </thead>\n",
       "  <tbody>\n",
       "    <tr>\n",
       "      <th>0</th>\n",
       "      <td>0</td>\n",
       "      <td>train/ADONIS/001.jpg</td>\n",
       "      <td>ADONIS</td>\n",
       "      <td>train</td>\n",
       "    </tr>\n",
       "    <tr>\n",
       "      <th>1</th>\n",
       "      <td>0</td>\n",
       "      <td>train/ADONIS/002.jpg</td>\n",
       "      <td>ADONIS</td>\n",
       "      <td>train</td>\n",
       "    </tr>\n",
       "    <tr>\n",
       "      <th>2</th>\n",
       "      <td>0</td>\n",
       "      <td>train/ADONIS/003.jpg</td>\n",
       "      <td>ADONIS</td>\n",
       "      <td>train</td>\n",
       "    </tr>\n",
       "    <tr>\n",
       "      <th>3</th>\n",
       "      <td>0</td>\n",
       "      <td>train/ADONIS/004.jpg</td>\n",
       "      <td>ADONIS</td>\n",
       "      <td>train</td>\n",
       "    </tr>\n",
       "    <tr>\n",
       "      <th>4</th>\n",
       "      <td>0</td>\n",
       "      <td>train/ADONIS/005.jpg</td>\n",
       "      <td>ADONIS</td>\n",
       "      <td>train</td>\n",
       "    </tr>\n",
       "  </tbody>\n",
       "</table>\n",
       "</div>"
      ],
      "text/plain": [
       "   class id             filepaths  labels data set\n",
       "0         0  train/ADONIS/001.jpg  ADONIS    train\n",
       "1         0  train/ADONIS/002.jpg  ADONIS    train\n",
       "2         0  train/ADONIS/003.jpg  ADONIS    train\n",
       "3         0  train/ADONIS/004.jpg  ADONIS    train\n",
       "4         0  train/ADONIS/005.jpg  ADONIS    train"
      ]
     },
     "execution_count": 4,
     "metadata": {},
     "output_type": "execute_result"
    }
   ],
   "source": [
    "df = pd.read_csv(\"/kaggle/input/butterfly-images40-species/butterflies and moths.csv\")\n",
    "df.head()"
   ]
  },
  {
   "cell_type": "code",
   "execution_count": 5,
   "id": "83b2b709",
   "metadata": {
    "execution": {
     "iopub.execute_input": "2023-06-16T09:17:58.100705Z",
     "iopub.status.busy": "2023-06-16T09:17:58.100386Z",
     "iopub.status.idle": "2023-06-16T09:17:58.105563Z",
     "shell.execute_reply": "2023-06-16T09:17:58.104778Z"
    },
    "papermill": {
     "duration": 0.014303,
     "end_time": "2023-06-16T09:17:58.107583",
     "exception": false,
     "start_time": "2023-06-16T09:17:58.093280",
     "status": "completed"
    },
    "tags": []
   },
   "outputs": [],
   "source": [
    "# df = df.iloc[:3000,:]"
   ]
  },
  {
   "cell_type": "code",
   "execution_count": 6,
   "id": "413cef32",
   "metadata": {
    "execution": {
     "iopub.execute_input": "2023-06-16T09:17:58.120985Z",
     "iopub.status.busy": "2023-06-16T09:17:58.120695Z",
     "iopub.status.idle": "2023-06-16T09:17:58.135675Z",
     "shell.execute_reply": "2023-06-16T09:17:58.134709Z"
    },
    "papermill": {
     "duration": 0.026449,
     "end_time": "2023-06-16T09:17:58.140129",
     "exception": false,
     "start_time": "2023-06-16T09:17:58.113680",
     "status": "completed"
    },
    "tags": []
   },
   "outputs": [
    {
     "name": "stdout",
     "output_type": "stream",
     "text": [
      "100\n"
     ]
    },
    {
     "data": {
      "text/plain": [
       "Index(['class id', 'filepaths', 'labels', 'data set'], dtype='object')"
      ]
     },
     "execution_count": 6,
     "metadata": {},
     "output_type": "execute_result"
    }
   ],
   "source": [
    "width , height = (299, 299)\n",
    "n_classes = df['labels'].nunique()\n",
    "print(n_classes)\n",
    "df.columns"
   ]
  },
  {
   "cell_type": "code",
   "execution_count": 7,
   "id": "387dccec",
   "metadata": {
    "execution": {
     "iopub.execute_input": "2023-06-16T09:17:58.154176Z",
     "iopub.status.busy": "2023-06-16T09:17:58.153926Z",
     "iopub.status.idle": "2023-06-16T09:18:30.333039Z",
     "shell.execute_reply": "2023-06-16T09:18:30.332073Z"
    },
    "papermill": {
     "duration": 32.192681,
     "end_time": "2023-06-16T09:18:30.339471",
     "exception": false,
     "start_time": "2023-06-16T09:17:58.146790",
     "status": "completed"
    },
    "tags": []
   },
   "outputs": [
    {
     "name": "stdout",
     "output_type": "stream",
     "text": [
      "Found 9516 validated image filenames belonging to 100 classes.\n",
      "Found 4078 validated image filenames belonging to 100 classes.\n"
     ]
    }
   ],
   "source": [
    "#preprocessing data :\n",
    "img_generator = tf.keras.preprocessing.image.ImageDataGenerator(#rotation_range=90,\n",
    "                                                                brightness_range=(0.5,1),\n",
    "                                                                #shear_range=0.2,\n",
    "                                                                #zoom_range=0.2,\n",
    "                                                                channel_shift_range=0.2,\n",
    "                                                                horizontal_flip=True,\n",
    "                                                                vertical_flip=True,\n",
    "                                                                rescale=1./255,\n",
    "                                                                validation_split=0.3)\n",
    "\n",
    "\n",
    "img_generator_flow_train = img_generator.flow_from_dataframe(\n",
    "    dataframe=df, # the dataframe containing the filename and label column\n",
    "    directory=\"/kaggle/input/butterfly-images40-species\", # the directory containing the image files\n",
    "    x_col=\"filepaths\", # the name of the column with the filenames\n",
    "    y_col=\"labels\", # the name of the column with the labels\n",
    "    target_size=(width, height),\n",
    "    class_mode = \"categorical\", \n",
    "    batch_size=32, \n",
    "    subset=\"training\")\n",
    "\n",
    "img_generator_flow_valid = img_generator.flow_from_dataframe(\n",
    "    dataframe=df, # the dataframe containing the filename and label column\n",
    "    directory=\"/kaggle/input/butterfly-images40-species\", # the directory containing the image files\n",
    "    x_col=\"filepaths\", # the name of the column with the filenames\n",
    "    y_col=\"labels\", # the name of the column with the labels\n",
    "    target_size=(width, height),\n",
    "    class_mode = \"categorical\", \n",
    "    batch_size=32, \n",
    "    subset=\"validation\")"
   ]
  },
  {
   "cell_type": "code",
   "execution_count": 8,
   "id": "2a6518a1",
   "metadata": {
    "execution": {
     "iopub.execute_input": "2023-06-16T09:18:30.355288Z",
     "iopub.status.busy": "2023-06-16T09:18:30.354509Z",
     "iopub.status.idle": "2023-06-16T09:18:31.707597Z",
     "shell.execute_reply": "2023-06-16T09:18:31.706679Z"
    },
    "papermill": {
     "duration": 1.363652,
     "end_time": "2023-06-16T09:18:31.710358",
     "exception": false,
     "start_time": "2023-06-16T09:18:30.346706",
     "status": "completed"
    },
    "tags": []
   },
   "outputs": [],
   "source": [
    "# Set your variables for your environment\n",
    "EXPERIMENT_NAME=\"papillons-elo\"\n",
    "\n",
    "# Set tracking URI to your Heroku application\n",
    "# mlflow.set_tracking_uri(os.environ[\"APP_URI\"])\n",
    "mlflow.set_tracking_uri(\"https://insects-mlflow.herokuapp.com/\")\n",
    "\n",
    "\n",
    "# Set experiment's info \n",
    "mlflow.set_experiment(EXPERIMENT_NAME)\n",
    "\n",
    "\n",
    "\n",
    "# Get our experiment info\n",
    "experiment = mlflow.get_experiment_by_name(EXPERIMENT_NAME)"
   ]
  },
  {
   "cell_type": "code",
   "execution_count": 9,
   "id": "e8e9ae8c",
   "metadata": {
    "execution": {
     "iopub.execute_input": "2023-06-16T09:18:31.731904Z",
     "iopub.status.busy": "2023-06-16T09:18:31.731240Z",
     "iopub.status.idle": "2023-06-16T09:43:46.090455Z",
     "shell.execute_reply": "2023-06-16T09:43:46.089446Z"
    },
    "papermill": {
     "duration": 1514.372805,
     "end_time": "2023-06-16T09:43:46.093097",
     "exception": false,
     "start_time": "2023-06-16T09:18:31.720292",
     "status": "completed"
    },
    "tags": []
   },
   "outputs": [
    {
     "name": "stdout",
     "output_type": "stream",
     "text": [
      "Downloading data from https://storage.googleapis.com/tensorflow/keras-applications/inception_v3/inception_v3_weights_tf_dim_ordering_tf_kernels_notop.h5\n",
      "87910968/87910968 [==============================] - 0s 0us/step\n",
      "Model: \"sequential\"\n",
      "_________________________________________________________________\n",
      " Layer (type)                Output Shape              Param #   \n",
      "=================================================================\n",
      " inception_v3 (Functional)   (None, 8, 8, 2048)        21802784  \n",
      "                                                                 \n",
      " global_max_pooling2d (Globa  (None, 2048)             0         \n",
      " lMaxPooling2D)                                                  \n",
      "                                                                 \n",
      " flatten (Flatten)           (None, 2048)              0         \n",
      "                                                                 \n",
      " dense (Dense)               (None, 100)               204900    \n",
      "                                                                 \n",
      "=================================================================\n",
      "Total params: 22,007,684\n",
      "Trainable params: 6,278,436\n",
      "Non-trainable params: 15,729,248\n",
      "_________________________________________________________________\n"
     ]
    },
    {
     "name": "stderr",
     "output_type": "stream",
     "text": [
      "2023/06/16 09:18:40 WARNING mlflow.tensorflow: Unrecognized dataset type <class 'keras.preprocessing.image.DataFrameIterator'>. Dataset logging skipped.\n",
      "2023/06/16 09:18:40 WARNING mlflow.tensorflow: Unrecognized dataset type <class 'keras.preprocessing.image.DataFrameIterator'>. Dataset logging skipped.\n"
     ]
    },
    {
     "name": "stdout",
     "output_type": "stream",
     "text": [
      "Epoch 1/10\n",
      "298/298 [==============================] - 201s 616ms/step - loss: 1.4728 - categorical_accuracy: 0.6987 - val_loss: 5.3166 - val_categorical_accuracy: 0.2285\n",
      "Epoch 2/10\n",
      "298/298 [==============================] - 131s 439ms/step - loss: 0.4660 - categorical_accuracy: 0.8799 - val_loss: 3.3603 - val_categorical_accuracy: 0.3762\n",
      "Epoch 3/10\n",
      "298/298 [==============================] - 132s 444ms/step - loss: 0.2691 - categorical_accuracy: 0.9231 - val_loss: 3.1417 - val_categorical_accuracy: 0.4451\n",
      "Epoch 4/10\n",
      "298/298 [==============================] - 129s 434ms/step - loss: 0.2233 - categorical_accuracy: 0.9362 - val_loss: 3.5209 - val_categorical_accuracy: 0.4407\n",
      "Epoch 5/10\n",
      "298/298 [==============================] - 129s 432ms/step - loss: 0.1714 - categorical_accuracy: 0.9513 - val_loss: 3.6577 - val_categorical_accuracy: 0.4586\n",
      "Epoch 6/10\n",
      "298/298 [==============================] - 129s 432ms/step - loss: 0.1619 - categorical_accuracy: 0.9526 - val_loss: 3.2501 - val_categorical_accuracy: 0.4887\n",
      "Epoch 7/10\n",
      "298/298 [==============================] - 127s 425ms/step - loss: 0.1391 - categorical_accuracy: 0.9636 - val_loss: 3.4204 - val_categorical_accuracy: 0.4566\n",
      "Epoch 8/10\n",
      "298/298 [==============================] - 128s 430ms/step - loss: 0.1142 - categorical_accuracy: 0.9657 - val_loss: 2.7494 - val_categorical_accuracy: 0.5596\n",
      "Epoch 9/10\n",
      "298/298 [==============================] - 128s 429ms/step - loss: 0.1035 - categorical_accuracy: 0.9709 - val_loss: 3.7620 - val_categorical_accuracy: 0.4799\n",
      "Epoch 10/10\n",
      "298/298 [==============================] - 130s 435ms/step - loss: 0.0944 - categorical_accuracy: 0.9735 - val_loss: 3.9880 - val_categorical_accuracy: 0.5253\n"
     ]
    },
    {
     "name": "stderr",
     "output_type": "stream",
     "text": [
      "2023/06/16 09:42:34 WARNING mlflow.tensorflow: Failed to infer model signature: could not sample data to infer model signature: '>=' not supported between instances of 'slice' and 'int'\n",
      "2023/06/16 09:42:34 WARNING mlflow.tensorflow: You are saving a TensorFlow Core model or Keras model without a signature. Inference with mlflow.pyfunc.spark_udf() will not work unless the model's pyfunc representation accepts pandas DataFrames as inference inputs.\n",
      "2023/06/16 09:43:45 WARNING mlflow.utils.environment: Encountered an unexpected error while inferring pip requirements (model URI: /tmp/tmpne01s9sh/model, flavor: tensorflow), fall back to return ['tensorflow==2.12.0']. Set logging level to DEBUG to see the full traceback.\n"
     ]
    }
   ],
   "source": [
    "# Call mlflow autolog\n",
    "mlflow.tensorflow.autolog()\n",
    "\n",
    "mlflow.end_run()\n",
    "\n",
    "with mlflow.start_run(experiment_id = experiment.experiment_id):\n",
    "   \n",
    "    mlflow.set_tag(\"user\", \"elo\")\n",
    "    mlflow.set_tag(\"model\", \"inceptionv3\")\n",
    "    mlflow.set_tag(\"description\", \"24cat\")\n",
    "    \n",
    "    base_model = tf.keras.applications.inception_v3.InceptionV3(input_shape=(width, height,3),\n",
    "                                               include_top=False,\n",
    "                                               weights = \"imagenet\"\n",
    "                                               )\n",
    "    base_model.trainable = True\n",
    "\n",
    "    fine_tune_at = len(base_model.layers) - 0.1*len(base_model.layers)\n",
    "\n",
    "    for layer in base_model.layers[:int(fine_tune_at)]:\n",
    "        layer.trainable = False\n",
    "    model = tf.keras.Sequential([\n",
    "        base_model,\n",
    "        tf.keras.layers.GlobalMaxPooling2D(),\n",
    "        tf.keras.layers.Flatten(),\n",
    "        tf.keras.layers.Dense(n_classes, activation=\"softmax\")\n",
    "    ])\n",
    "    model.summary()\n",
    "\n",
    "    model.compile(optimizer=tf.keras.optimizers.Adam(learning_rate = 0.001),\n",
    "                  loss = tf.keras.losses.CategoricalCrossentropy(),\n",
    "                  metrics = [tf.keras.metrics.CategoricalAccuracy()])\n",
    "    model.fit(img_generator_flow_train, validation_data=img_generator_flow_valid, epochs=10)"
   ]
  },
  {
   "cell_type": "code",
   "execution_count": 10,
   "id": "175a3c6f",
   "metadata": {
    "execution": {
     "iopub.execute_input": "2023-06-16T09:43:46.564710Z",
     "iopub.status.busy": "2023-06-16T09:43:46.564318Z",
     "iopub.status.idle": "2023-06-16T09:43:46.857067Z",
     "shell.execute_reply": "2023-06-16T09:43:46.856102Z"
    },
    "papermill": {
     "duration": 0.532084,
     "end_time": "2023-06-16T09:43:46.859326",
     "exception": false,
     "start_time": "2023-06-16T09:43:46.327242",
     "status": "completed"
    },
    "tags": []
   },
   "outputs": [
    {
     "data": {
      "image/png": "[encoded data removed]",
      "text/plain": [
       "<Figure size 640x480 with 1 Axes>"
      ]
     },
     "metadata": {},
     "output_type": "display_data"
    }
   ],
   "source": [
    "# Visualise train / Valid Accuracy\n",
    "plt.plot(model.history.history[\"categorical_accuracy\"], c=\"r\", label=\"train_accuracy\")\n",
    "plt.plot(model.history.history[\"val_categorical_accuracy\"], c=\"b\", label=\"test_accuracy\")\n",
    "plt.legend(loc=\"upper left\")\n",
    "plt.show()\n",
    "\n"
   ]
  },
  {
   "cell_type": "code",
   "execution_count": 11,
   "id": "026c36cb",
   "metadata": {
    "execution": {
     "iopub.execute_input": "2023-06-16T09:43:47.462867Z",
     "iopub.status.busy": "2023-06-16T09:43:47.462388Z",
     "iopub.status.idle": "2023-06-16T09:43:47.747359Z",
     "shell.execute_reply": "2023-06-16T09:43:47.745154Z"
    },
    "papermill": {
     "duration": 0.651393,
     "end_time": "2023-06-16T09:43:47.753247",
     "exception": false,
     "start_time": "2023-06-16T09:43:47.101854",
     "status": "completed"
    },
    "tags": []
   },
   "outputs": [
    {
     "data": {
      "image/png": "[encoded data removed]",
      "text/plain": [
       "<Figure size 640x480 with 1 Axes>"
      ]
     },
     "metadata": {},
     "output_type": "display_data"
    }
   ],
   "source": [
    "# Visualise train / Valid Loss\n",
    "plt.plot(model.history.history[\"loss\"], c=\"r\", label=\"train_loss\")\n",
    "plt.plot(model.history.history[\"val_loss\"], c=\"b\", label=\"test_loss\")\n",
    "plt.legend(loc=\"upper left\")\n",
    "plt.show()\n"
   ]
  }
 ],
 "metadata": {
  "kernelspec": {
   "display_name": "Python 3",
   "language": "python",
   "name": "python3"
  },
  "language_info": {
   "codemirror_mode": {
    "name": "ipython",
    "version": 3
   },
   "file_extension": ".py",
   "mimetype": "text/x-python",
   "name": "python",
   "nbconvert_exporter": "python",
   "pygments_lexer": "ipython3",
   "version": "3.10.10"
  },
  "papermill": {
   "default_parameters": {},
   "duration": 1590.489337,
   "end_time": "2023-06-16T09:43:51.600244",
   "environment_variables": {},
   "exception": null,
   "input_path": "__notebook__.ipynb",
   "output_path": "__notebook__.ipynb",
   "parameters": {},
   "start_time": "2023-06-16T09:17:21.110907",
   "version": "2.4.0"
  }
 },
 "nbformat": 4,
 "nbformat_minor": 5
}
