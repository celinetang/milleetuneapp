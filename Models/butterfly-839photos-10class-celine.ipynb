{
 "cells": [
  {
   "cell_type": "code",
   "execution_count": 1,
   "id": "58af1b10",
   "metadata": {
    "execution": {
     "iopub.execute_input": "2023-06-15T16:56:20.379384Z",
     "iopub.status.busy": "2023-06-15T16:56:20.378424Z",
     "iopub.status.idle": "2023-06-15T16:56:38.593589Z",
     "shell.execute_reply": "2023-06-15T16:56:38.592453Z"
    },
    "papermill": {
     "duration": 18.224913,
     "end_time": "2023-06-15T16:56:38.596114",
     "exception": false,
     "start_time": "2023-06-15T16:56:20.371201",
     "status": "completed"
    },
    "tags": []
   },
   "outputs": [
    {
     "name": "stdout",
     "output_type": "stream",
     "text": [
      "Collecting mlflow\r\n",
      "  Downloading mlflow-2.4.1-py3-none-any.whl (18.1 MB)\r\n",
      "\u001b[2K     \u001b[90m━━━━━━━━━━━━━━━━━━━━━━━━━━━━━━━━━━━━━━━━\u001b[0m \u001b[32m18.1/18.1 MB\u001b[0m \u001b[31m59.1 MB/s\u001b[0m eta \u001b[36m0:00:00\u001b[0m\r\n",
      "\u001b[?25hRequirement already satisfied: click<9,>=7.0 in /opt/conda/lib/python3.10/site-packages (from mlflow) (8.1.3)\r\n",
      "Requirement already satisfied: cloudpickle<3 in /opt/conda/lib/python3.10/site-packages (from mlflow) (2.2.1)\r\n",
      "Collecting databricks-cli<1,>=0.8.7 (from mlflow)\r\n",
      "  Downloading databricks-cli-0.17.7.tar.gz (83 kB)\r\n",
      "\u001b[2K     \u001b[90m━━━━━━━━━━━━━━━━━━━━━━━━━━━━━━━━━━━━━━━━\u001b[0m \u001b[32m83.5/83.5 kB\u001b[0m \u001b[31m5.2 MB/s\u001b[0m eta \u001b[36m0:00:00\u001b[0m\r\n",
      "\u001b[?25h  Preparing metadata (setup.py) ... \u001b[?25l-\b \b\\\b \b|\b \bdone\r\n",
      "\u001b[?25hRequirement already satisfied: entrypoints<1 in /opt/conda/lib/python3.10/site-packages (from mlflow) (0.4)\r\n",
      "Requirement already satisfied: gitpython<4,>=2.1.0 in /opt/conda/lib/python3.10/site-packages (from mlflow) (3.1.31)\r\n",
      "Requirement already satisfied: pyyaml<7,>=5.1 in /opt/conda/lib/python3.10/site-packages (from mlflow) (5.4.1)\r\n",
      "Requirement already satisfied: protobuf<5,>=3.12.0 in /opt/conda/lib/python3.10/site-packages (from mlflow) (3.20.3)\r\n",
      "Requirement already satisfied: pytz<2024 in /opt/conda/lib/python3.10/site-packages (from mlflow) (2023.3)\r\n",
      "Requirement already satisfied: requests<3,>=2.17.3 in /opt/conda/lib/python3.10/site-packages (from mlflow) (2.28.2)\r\n",
      "Requirement already satisfied: packaging<24 in /opt/conda/lib/python3.10/site-packages (from mlflow) (21.3)\r\n",
      "Requirement already satisfied: importlib-metadata!=4.7.0,<7,>=3.7.0 in /opt/conda/lib/python3.10/site-packages (from mlflow) (5.2.0)\r\n",
      "Requirement already satisfied: sqlparse<1,>=0.4.0 in /opt/conda/lib/python3.10/site-packages (from mlflow) (0.4.4)\r\n",
      "Requirement already satisfied: alembic!=1.10.0,<2 in /opt/conda/lib/python3.10/site-packages (from mlflow) (1.11.1)\r\n",
      "Requirement already satisfied: docker<7,>=4.0.0 in /opt/conda/lib/python3.10/site-packages (from mlflow) (6.1.1)\r\n",
      "Requirement already satisfied: Flask<3 in /opt/conda/lib/python3.10/site-packages (from mlflow) (2.3.2)\r\n",
      "Requirement already satisfied: numpy<2 in /opt/conda/lib/python3.10/site-packages (from mlflow) (1.23.5)\r\n",
      "Requirement already satisfied: scipy<2 in /opt/conda/lib/python3.10/site-packages (from mlflow) (1.10.1)\r\n",
      "Requirement already satisfied: pandas<3 in /opt/conda/lib/python3.10/site-packages (from mlflow) (1.5.3)\r\n",
      "Collecting querystring-parser<2 (from mlflow)\r\n",
      "  Downloading querystring_parser-1.2.4-py2.py3-none-any.whl (7.9 kB)\r\n",
      "Requirement already satisfied: sqlalchemy<3,>=1.4.0 in /opt/conda/lib/python3.10/site-packages (from mlflow) (2.0.12)\r\n",
      "Requirement already satisfied: scikit-learn<2 in /opt/conda/lib/python3.10/site-packages (from mlflow) (1.2.2)\r\n",
      "Requirement already satisfied: pyarrow<13,>=4.0.0 in /opt/conda/lib/python3.10/site-packages (from mlflow) (10.0.1)\r\n",
      "Requirement already satisfied: markdown<4,>=3.3 in /opt/conda/lib/python3.10/site-packages (from mlflow) (3.4.3)\r\n",
      "Requirement already satisfied: matplotlib<4 in /opt/conda/lib/python3.10/site-packages (from mlflow) (3.6.3)\r\n",
      "Collecting gunicorn<21 (from mlflow)\r\n",
      "  Downloading gunicorn-20.1.0-py3-none-any.whl (79 kB)\r\n",
      "\u001b[2K     \u001b[90m━━━━━━━━━━━━━━━━━━━━━━━━━━━━━━━━━━━━━━━━\u001b[0m \u001b[32m79.5/79.5 kB\u001b[0m \u001b[31m8.1 MB/s\u001b[0m eta \u001b[36m0:00:00\u001b[0m\r\n",
      "\u001b[?25hRequirement already satisfied: Jinja2<4,>=2.11 in /opt/conda/lib/python3.10/site-packages (from mlflow) (3.1.2)\r\n",
      "Requirement already satisfied: Mako in /opt/conda/lib/python3.10/site-packages (from alembic!=1.10.0,<2->mlflow) (1.2.4)\r\n",
      "Requirement already satisfied: typing-extensions>=4 in /opt/conda/lib/python3.10/site-packages (from alembic!=1.10.0,<2->mlflow) (4.5.0)\r\n",
      "Requirement already satisfied: pyjwt>=1.7.0 in /opt/conda/lib/python3.10/site-packages (from databricks-cli<1,>=0.8.7->mlflow) (2.6.0)\r\n",
      "Requirement already satisfied: oauthlib>=3.1.0 in /opt/conda/lib/python3.10/site-packages (from databricks-cli<1,>=0.8.7->mlflow) (3.2.2)\r\n",
      "Requirement already satisfied: tabulate>=0.7.7 in /opt/conda/lib/python3.10/site-packages (from databricks-cli<1,>=0.8.7->mlflow) (0.9.0)\r\n",
      "Requirement already satisfied: six>=1.10.0 in /opt/conda/lib/python3.10/site-packages (from databricks-cli<1,>=0.8.7->mlflow) (1.16.0)\r\n",
      "Requirement already satisfied: urllib3<2.0.0,>=1.26.7 in /opt/conda/lib/python3.10/site-packages (from databricks-cli<1,>=0.8.7->mlflow) (1.26.15)\r\n",
      "Requirement already satisfied: websocket-client>=0.32.0 in /opt/conda/lib/python3.10/site-packages (from docker<7,>=4.0.0->mlflow) (1.5.1)\r\n",
      "Requirement already satisfied: Werkzeug>=2.3.3 in /opt/conda/lib/python3.10/site-packages (from Flask<3->mlflow) (2.3.4)\r\n",
      "Requirement already satisfied: itsdangerous>=2.1.2 in /opt/conda/lib/python3.10/site-packages (from Flask<3->mlflow) (2.1.2)\r\n",
      "Requirement already satisfied: blinker>=1.6.2 in /opt/conda/lib/python3.10/site-packages (from Flask<3->mlflow) (1.6.2)\r\n",
      "Requirement already satisfied: gitdb<5,>=4.0.1 in /opt/conda/lib/python3.10/site-packages (from gitpython<4,>=2.1.0->mlflow) (4.0.10)\r\n",
      "Requirement already satisfied: setuptools>=3.0 in /opt/conda/lib/python3.10/site-packages (from gunicorn<21->mlflow) (59.8.0)\r\n",
      "Requirement already satisfied: zipp>=0.5 in /opt/conda/lib/python3.10/site-packages (from importlib-metadata!=4.7.0,<7,>=3.7.0->mlflow) (3.15.0)\r\n",
      "Requirement already satisfied: MarkupSafe>=2.0 in /opt/conda/lib/python3.10/site-packages (from Jinja2<4,>=2.11->mlflow) (2.1.2)\r\n",
      "Requirement already satisfied: contourpy>=1.0.1 in /opt/conda/lib/python3.10/site-packages (from matplotlib<4->mlflow) (1.0.7)\r\n",
      "Requirement already satisfied: cycler>=0.10 in /opt/conda/lib/python3.10/site-packages (from matplotlib<4->mlflow) (0.11.0)\r\n",
      "Requirement already satisfied: fonttools>=4.22.0 in /opt/conda/lib/python3.10/site-packages (from matplotlib<4->mlflow) (4.39.3)\r\n",
      "Requirement already satisfied: kiwisolver>=1.0.1 in /opt/conda/lib/python3.10/site-packages (from matplotlib<4->mlflow) (1.4.4)\r\n",
      "Requirement already satisfied: pillow>=6.2.0 in /opt/conda/lib/python3.10/site-packages (from matplotlib<4->mlflow) (9.5.0)\r\n",
      "Requirement already satisfied: pyparsing>=2.2.1 in /opt/conda/lib/python3.10/site-packages (from matplotlib<4->mlflow) (3.0.9)\r\n",
      "Requirement already satisfied: python-dateutil>=2.7 in /opt/conda/lib/python3.10/site-packages (from matplotlib<4->mlflow) (2.8.2)\r\n",
      "Requirement already satisfied: charset-normalizer<4,>=2 in /opt/conda/lib/python3.10/site-packages (from requests<3,>=2.17.3->mlflow) (2.1.1)\r\n",
      "Requirement already satisfied: idna<4,>=2.5 in /opt/conda/lib/python3.10/site-packages (from requests<3,>=2.17.3->mlflow) (3.4)\r\n",
      "Requirement already satisfied: certifi>=2017.4.17 in /opt/conda/lib/python3.10/site-packages (from requests<3,>=2.17.3->mlflow) (2023.5.7)\r\n",
      "Requirement already satisfied: joblib>=1.1.1 in /opt/conda/lib/python3.10/site-packages (from scikit-learn<2->mlflow) (1.2.0)\r\n",
      "Requirement already satisfied: threadpoolctl>=2.0.0 in /opt/conda/lib/python3.10/site-packages (from scikit-learn<2->mlflow) (3.1.0)\r\n",
      "Requirement already satisfied: greenlet!=0.4.17 in /opt/conda/lib/python3.10/site-packages (from sqlalchemy<3,>=1.4.0->mlflow) (2.0.2)\r\n",
      "Requirement already satisfied: smmap<6,>=3.0.1 in /opt/conda/lib/python3.10/site-packages (from gitdb<5,>=4.0.1->gitpython<4,>=2.1.0->mlflow) (5.0.0)\r\n",
      "Building wheels for collected packages: databricks-cli\r\n",
      "  Building wheel for databricks-cli (setup.py) ... \u001b[?25l-\b \b\\\b \b|\b \b/\b \bdone\r\n",
      "\u001b[?25h  Created wheel for databricks-cli: filename=databricks_cli-0.17.7-py3-none-any.whl size=143882 sha256=8fbb04742abd94fa9efc6d4ec05f0c0dd2c64ea95484e68ea142bc966ed04a8c\r\n",
      "  Stored in directory: /root/.cache/pip/wheels/ae/63/93/5402c1a09c1868a59d0b05013484e07af97a9d7b3dbd5bd39a\r\n",
      "Successfully built databricks-cli\r\n",
      "Installing collected packages: querystring-parser, gunicorn, databricks-cli, mlflow\r\n",
      "Successfully installed databricks-cli-0.17.7 gunicorn-20.1.0 mlflow-2.4.1 querystring-parser-1.2.4\r\n",
      "\u001b[33mWARNING: Running pip as the 'root' user can result in broken permissions and conflicting behaviour with the system package manager. It is recommended to use a virtual environment instead: https://pip.pypa.io/warnings/venv\u001b[0m\u001b[33m\r\n",
      "\u001b[0m"
     ]
    }
   ],
   "source": [
    "!pip install mlflow"
   ]
  },
  {
   "cell_type": "code",
   "execution_count": 2,
   "id": "fb63861a",
   "metadata": {
    "execution": {
     "iopub.execute_input": "2023-06-15T16:56:38.613740Z",
     "iopub.status.busy": "2023-06-15T16:56:38.613437Z",
     "iopub.status.idle": "2023-06-15T16:56:49.310115Z",
     "shell.execute_reply": "2023-06-15T16:56:49.309197Z"
    },
    "papermill": {
     "duration": 10.707564,
     "end_time": "2023-06-15T16:56:49.312140",
     "exception": false,
     "start_time": "2023-06-15T16:56:38.604576",
     "status": "completed"
    },
    "tags": []
   },
   "outputs": [
    {
     "name": "stderr",
     "output_type": "stream",
     "text": [
      "/opt/conda/lib/python3.10/site-packages/tensorflow_io/python/ops/__init__.py:98: UserWarning: unable to load libtensorflow_io_plugins.so: unable to open file: libtensorflow_io_plugins.so, from paths: ['/opt/conda/lib/python3.10/site-packages/tensorflow_io/python/ops/libtensorflow_io_plugins.so']\n",
      "caused by: ['/opt/conda/lib/python3.10/site-packages/tensorflow_io/python/ops/libtensorflow_io_plugins.so: undefined symbol: _ZN3tsl6StatusC1EN10tensorflow5error4CodeESt17basic_string_viewIcSt11char_traitsIcEENS_14SourceLocationE']\n",
      "  warnings.warn(f\"unable to load libtensorflow_io_plugins.so: {e}\")\n",
      "/opt/conda/lib/python3.10/site-packages/tensorflow_io/python/ops/__init__.py:104: UserWarning: file system plugins are not loaded: unable to open file: libtensorflow_io.so, from paths: ['/opt/conda/lib/python3.10/site-packages/tensorflow_io/python/ops/libtensorflow_io.so']\n",
      "caused by: ['/opt/conda/lib/python3.10/site-packages/tensorflow_io/python/ops/libtensorflow_io.so: undefined symbol: _ZTVN10tensorflow13GcsFileSystemE']\n",
      "  warnings.warn(f\"file system plugins are not loaded: {e}\")\n"
     ]
    },
    {
     "data": {
      "text/plain": [
       "'2.12.0'"
      ]
     },
     "execution_count": 2,
     "metadata": {},
     "output_type": "execute_result"
    }
   ],
   "source": [
    "import tensorflow as tf\n",
    "import numpy as np\n",
    "import matplotlib.pyplot as plt\n",
    "from pathlib import Path\n",
    "from tensorflow import keras\n",
    "import mlflow\n",
    "\n",
    "import pandas as pd\n",
    "from plotly import express as px\n",
    "from plotly import graph_objects as go\n",
    "\n",
    "# Display\n",
    "from IPython.display import Image\n",
    "import matplotlib.pyplot as plt\n",
    "import matplotlib.cm as cm\n",
    "\n",
    "from tensorflow.keras.preprocessing.image import ImageDataGenerator\n",
    "from tensorflow.keras.layers import Conv1D, Conv2D, Conv3D, MaxPool2D, AveragePooling2D, Flatten, Dense\n",
    "from tensorflow.keras.models import Sequential\n",
    "\n",
    "from tensorflow.keras.losses import BinaryCrossentropy, SparseCategoricalCrossentropy\n",
    "from tensorflow.keras.metrics import BinaryAccuracy, SparseCategoricalAccuracy\n",
    "from tensorflow.keras.optimizers import Adam\n",
    "tf.__version__# Set your variables for your environment\n"
   ]
  },
  {
   "cell_type": "code",
   "execution_count": 3,
   "id": "96588474",
   "metadata": {
    "execution": {
     "iopub.execute_input": "2023-06-15T16:56:49.330045Z",
     "iopub.status.busy": "2023-06-15T16:56:49.329724Z",
     "iopub.status.idle": "2023-06-15T16:56:49.416934Z",
     "shell.execute_reply": "2023-06-15T16:56:49.416043Z"
    },
    "papermill": {
     "duration": 0.098902,
     "end_time": "2023-06-15T16:56:49.419382",
     "exception": false,
     "start_time": "2023-06-15T16:56:49.320480",
     "status": "completed"
    },
    "tags": []
   },
   "outputs": [
    {
     "data": {
      "text/html": [
       "<div>\n",
       "<style scoped>\n",
       "    .dataframe tbody tr th:only-of-type {\n",
       "        vertical-align: middle;\n",
       "    }\n",
       "\n",
       "    .dataframe tbody tr th {\n",
       "        vertical-align: top;\n",
       "    }\n",
       "\n",
       "    .dataframe thead th {\n",
       "        text-align: right;\n",
       "    }\n",
       "</style>\n",
       "<table border=\"1\" class=\"dataframe\">\n",
       "  <thead>\n",
       "    <tr style=\"text-align: right;\">\n",
       "      <th></th>\n",
       "      <th>Image_Path</th>\n",
       "    </tr>\n",
       "  </thead>\n",
       "  <tbody>\n",
       "    <tr>\n",
       "      <th>0</th>\n",
       "      <td>/kaggle/input/butterfly-dataset/leedsbutterfly...</td>\n",
       "    </tr>\n",
       "    <tr>\n",
       "      <th>1</th>\n",
       "      <td>/kaggle/input/butterfly-dataset/leedsbutterfly...</td>\n",
       "    </tr>\n",
       "    <tr>\n",
       "      <th>2</th>\n",
       "      <td>/kaggle/input/butterfly-dataset/leedsbutterfly...</td>\n",
       "    </tr>\n",
       "    <tr>\n",
       "      <th>3</th>\n",
       "      <td>/kaggle/input/butterfly-dataset/leedsbutterfly...</td>\n",
       "    </tr>\n",
       "    <tr>\n",
       "      <th>4</th>\n",
       "      <td>/kaggle/input/butterfly-dataset/leedsbutterfly...</td>\n",
       "    </tr>\n",
       "  </tbody>\n",
       "</table>\n",
       "</div>"
      ],
      "text/plain": [
       "                                          Image_Path\n",
       "0  /kaggle/input/butterfly-dataset/leedsbutterfly...\n",
       "1  /kaggle/input/butterfly-dataset/leedsbutterfly...\n",
       "2  /kaggle/input/butterfly-dataset/leedsbutterfly...\n",
       "3  /kaggle/input/butterfly-dataset/leedsbutterfly...\n",
       "4  /kaggle/input/butterfly-dataset/leedsbutterfly..."
      ]
     },
     "execution_count": 3,
     "metadata": {},
     "output_type": "execute_result"
    }
   ],
   "source": [
    "import os\n",
    "import glob\n",
    "import pandas as pd\n",
    "\n",
    "def create_dataframe(folder_path):\n",
    "    image_paths = []\n",
    "    folder_names = []\n",
    "    supported_extensions = ('.jpg', '.jpeg', '.png', '.gif', '.png')  # Add or modify extensions as needed\n",
    "\n",
    "    # Iterate through all files and subdirectories recursively\n",
    "    for root, dirs, files in os.walk(folder_path):\n",
    "        for file in files:\n",
    "            if file.lower().endswith(supported_extensions):\n",
    "                image_paths.append(os.path.join(root, file))\n",
    "                folder_names.append(os.path.basename(root))\n",
    "                \n",
    "# Create a DataFrame from the extracted paths and folder names\n",
    "    df = pd.DataFrame({'Image_Path': image_paths})\n",
    "    return df\n",
    "\n",
    "# Example usage:\n",
    "folder_path = \"/kaggle/input/butterfly-dataset/leedsbutterfly/images\"\n",
    "df = create_dataframe(folder_path)\n",
    "\n",
    "# Print the DataFrame\n",
    "df.head()"
   ]
  },
  {
   "cell_type": "code",
   "execution_count": 4,
   "id": "bd93b8b1",
   "metadata": {
    "execution": {
     "iopub.execute_input": "2023-06-15T16:56:49.438756Z",
     "iopub.status.busy": "2023-06-15T16:56:49.437418Z",
     "iopub.status.idle": "2023-06-15T16:56:49.448882Z",
     "shell.execute_reply": "2023-06-15T16:56:49.447789Z"
    },
    "papermill": {
     "duration": 0.023052,
     "end_time": "2023-06-15T16:56:49.451339",
     "exception": false,
     "start_time": "2023-06-15T16:56:49.428287",
     "status": "completed"
    },
    "tags": []
   },
   "outputs": [
    {
     "data": {
      "text/html": [
       "<div>\n",
       "<style scoped>\n",
       "    .dataframe tbody tr th:only-of-type {\n",
       "        vertical-align: middle;\n",
       "    }\n",
       "\n",
       "    .dataframe tbody tr th {\n",
       "        vertical-align: top;\n",
       "    }\n",
       "\n",
       "    .dataframe thead th {\n",
       "        text-align: right;\n",
       "    }\n",
       "</style>\n",
       "<table border=\"1\" class=\"dataframe\">\n",
       "  <thead>\n",
       "    <tr style=\"text-align: right;\">\n",
       "      <th></th>\n",
       "      <th>Image_Path</th>\n",
       "      <th>Image_name</th>\n",
       "    </tr>\n",
       "  </thead>\n",
       "  <tbody>\n",
       "    <tr>\n",
       "      <th>0</th>\n",
       "      <td>/kaggle/input/butterfly-dataset/leedsbutterfly...</td>\n",
       "      <td>0020155.png</td>\n",
       "    </tr>\n",
       "    <tr>\n",
       "      <th>1</th>\n",
       "      <td>/kaggle/input/butterfly-dataset/leedsbutterfly...</td>\n",
       "      <td>0090177.png</td>\n",
       "    </tr>\n",
       "    <tr>\n",
       "      <th>2</th>\n",
       "      <td>/kaggle/input/butterfly-dataset/leedsbutterfly...</td>\n",
       "      <td>0090201.png</td>\n",
       "    </tr>\n",
       "    <tr>\n",
       "      <th>3</th>\n",
       "      <td>/kaggle/input/butterfly-dataset/leedsbutterfly...</td>\n",
       "      <td>0100038.png</td>\n",
       "    </tr>\n",
       "    <tr>\n",
       "      <th>4</th>\n",
       "      <td>/kaggle/input/butterfly-dataset/leedsbutterfly...</td>\n",
       "      <td>0070055.png</td>\n",
       "    </tr>\n",
       "  </tbody>\n",
       "</table>\n",
       "</div>"
      ],
      "text/plain": [
       "                                          Image_Path   Image_name\n",
       "0  /kaggle/input/butterfly-dataset/leedsbutterfly...  0020155.png\n",
       "1  /kaggle/input/butterfly-dataset/leedsbutterfly...  0090177.png\n",
       "2  /kaggle/input/butterfly-dataset/leedsbutterfly...  0090201.png\n",
       "3  /kaggle/input/butterfly-dataset/leedsbutterfly...  0100038.png\n",
       "4  /kaggle/input/butterfly-dataset/leedsbutterfly...  0070055.png"
      ]
     },
     "execution_count": 4,
     "metadata": {},
     "output_type": "execute_result"
    }
   ],
   "source": [
    "df['Image_name'] = df['Image_Path'].apply(lambda x : str(x).split(\"/\")[-1])\n",
    "df.head()"
   ]
  },
  {
   "cell_type": "code",
   "execution_count": null,
   "id": "28379cba",
   "metadata": {
    "papermill": {
     "duration": 0.008164,
     "end_time": "2023-06-15T16:56:49.469053",
     "exception": false,
     "start_time": "2023-06-15T16:56:49.460889",
     "status": "completed"
    },
    "tags": []
   },
   "outputs": [],
   "source": []
  },
  {
   "cell_type": "code",
   "execution_count": 5,
   "id": "49398bcf",
   "metadata": {
    "execution": {
     "iopub.execute_input": "2023-06-15T16:56:49.488429Z",
     "iopub.status.busy": "2023-06-15T16:56:49.486912Z",
     "iopub.status.idle": "2023-06-15T16:56:49.492340Z",
     "shell.execute_reply": "2023-06-15T16:56:49.491485Z"
    },
    "papermill": {
     "duration": 0.016941,
     "end_time": "2023-06-15T16:56:49.494379",
     "exception": false,
     "start_time": "2023-06-15T16:56:49.477438",
     "status": "completed"
    },
    "tags": []
   },
   "outputs": [],
   "source": [
    "name = {\"001\": \"Danaus plexippus\", \n",
    "\"002\" : \"Heliconius charitonius\",\n",
    "\"003\": \"Heliconius erato\",\t\n",
    "\"004\": \"Junonia coenia\",\n",
    "\"005\": \"Lycaena phlaeas\",\n",
    "\"006\": \"Nymphalis antiopa\",\t\n",
    "\"007\": \"Papilio cresphontes\",\t\n",
    "\"008\": \"Pieris rapae\",\t\n",
    "\"009\": \"Vanessa atalanta\",\t\n",
    "\"010\": \"Vanessa cardui\"}\n"
   ]
  },
  {
   "cell_type": "code",
   "execution_count": 6,
   "id": "aa17d52b",
   "metadata": {
    "execution": {
     "iopub.execute_input": "2023-06-15T16:56:49.513109Z",
     "iopub.status.busy": "2023-06-15T16:56:49.512331Z",
     "iopub.status.idle": "2023-06-15T16:56:49.517300Z",
     "shell.execute_reply": "2023-06-15T16:56:49.516497Z"
    },
    "papermill": {
     "duration": 0.016267,
     "end_time": "2023-06-15T16:56:49.519294",
     "exception": false,
     "start_time": "2023-06-15T16:56:49.503027",
     "status": "completed"
    },
    "tags": []
   },
   "outputs": [],
   "source": [
    "common_name = {\"001\": \"Monarch\", \n",
    "\"002\" : \"Zebra Longwing\",\n",
    "\"003\": \"Crimson-patched Longwing\",\t\n",
    "\"004\": \"Common Buckeye\",\n",
    "\"005\": \"American Copper\",\n",
    "\"006\": \"Mourning Cloak\",\t\n",
    "\"007\": \"Giant Swallowtail\",\t\n",
    "\"008\": \"Cabbage White\",\t\n",
    "\"009\": \"Red Admiral\",\t\n",
    "\"010\": \"Painted Lady\"}\n"
   ]
  },
  {
   "cell_type": "code",
   "execution_count": 7,
   "id": "3963e118",
   "metadata": {
    "execution": {
     "iopub.execute_input": "2023-06-15T16:56:49.538742Z",
     "iopub.status.busy": "2023-06-15T16:56:49.537319Z",
     "iopub.status.idle": "2023-06-15T16:56:49.542931Z",
     "shell.execute_reply": "2023-06-15T16:56:49.542060Z"
    },
    "papermill": {
     "duration": 0.017233,
     "end_time": "2023-06-15T16:56:49.545168",
     "exception": false,
     "start_time": "2023-06-15T16:56:49.527935",
     "status": "completed"
    },
    "tags": []
   },
   "outputs": [],
   "source": [
    "size = {\"001\": \"89-102 mm\", \n",
    "\"002\" : \"76-78 mm\",\n",
    "\"003\": \"76-86 mm\",\t\n",
    "\"004\": \"51-63 mm\",\n",
    "\"005\": \"22-28 mm\",\n",
    "\"006\": \"73-86 mm\",\t\n",
    "\"007\": \"86-140 mm\",\t\n",
    "\"008\": \"32-48 mm\",\t\n",
    "\"009\": \"44-57 mm\",\t\n",
    "\"010\": \"51-57 mm\"}"
   ]
  },
  {
   "cell_type": "code",
   "execution_count": 8,
   "id": "60083e1a",
   "metadata": {
    "execution": {
     "iopub.execute_input": "2023-06-15T16:56:49.565176Z",
     "iopub.status.busy": "2023-06-15T16:56:49.564384Z",
     "iopub.status.idle": "2023-06-15T16:56:49.571722Z",
     "shell.execute_reply": "2023-06-15T16:56:49.570729Z"
    },
    "papermill": {
     "duration": 0.019323,
     "end_time": "2023-06-15T16:56:49.573878",
     "exception": false,
     "start_time": "2023-06-15T16:56:49.554555",
     "status": "completed"
    },
    "tags": []
   },
   "outputs": [],
   "source": [
    "text_description = {\"001\": \"Very large, with FW long and drawn out. Above, bright, burnt-orange with black veins and black margins sprinkled with white dots; FW tip broadly black interrupted by larger white and orange spots. Below, paler, duskier orange. 1 black spot appears between HW cell and margin on male above and below. Female darker with black veins smudged.\", \n",
    "\"002\" : \"Wings long and narrow. Jet-black above, banded with lemon-yellow (sometimes pale yellow). Beneath similar; bases of wings have crimson spots.\",\n",
    "\"003\": \"Wings long, narrow, and rounded. Black above, crossed on FW by broad crimson patch, and on HW by narrow yellow line. Below, similar but red is pinkish and HW has less yellow.\",\t\n",
    "\"004\": \"Wings scalloped and rounded except at drawn-out FW tip. Highly variable. Above, tawny-brown to dark brown; 2 orange bars in FW cell, orange submarginal band on HW, white band diagonally crossing FW. 2 bright eyespots on each wing above: on FW, 1 very small near tip and 1 large eyespot in white FW bar; on HW, 1 large eyespot near upper margin and 1 small eyespot below it. Eyespots black, yellow-rimmed, with iridescent blue and lilac irises. Beneath, FW resembles above in lighter shades; HW eyespots tiny or absent, rose-brown to tan, with vague crescent-shaped markings.\",\n",
    "\"005\": \"Above, FW bright copper or brass-colored with dark spots and margin; HW dark brown with copper margin. Undersides mostly grayish with black dots; FW has some orange, HW has prominent submarginal orange band.\",\n",
    "\"006\": \"Large. Wing margins ragged. Dark with pale margins. Above, rich brownish-maroon, iridescent at close range, with ragged, cream-yellow band, bordered inwardly by brilliant blue spots all along both wings. Below, striated, ash-black with row of blue-green to blue-gray chevrons just inside dirty yellow border.\",\t\n",
    "\"007\": \"Very large. Long, dark, spoon-shaped tails have yellow center. Dark brownish-black above with 2 broad bands of yellow spots converging at tip of FW. Orange spot at corner of HW flanked by blue spot above; both recur below, but blue continuing in chevrons across underwing, which also has orange patch. Otherwise, yellow below with black veins and borders. Abdomen yellow with broad black midline tapering at tip; notch on top of abdomen near rear. Thorax has yellow lengthwise spots or stripes.\",\t\n",
    "\"008\": \"Milk-white above with charcoal FW tips, black submarginal sex spots on FW (1 on male, 2 on female) and on HW costa. Below, FW tip and HW pale to bright mustard-yellow, speckled with grayish spots and black FW spots.\",\t\n",
    "\"009\": \"FW tip extended, clipped. Above, black with orange-red to vermilion bars across FW and on HW border. Below, mottled black, brown, and blue with pink bar on FW. White spots at FW tip above and below, bright blue patch on lower HW angle above and below.\",\t\n",
    "\"010\": \"FW tip extended slightly, rounded. Above, salmon-orange with black blotches, black-patterned margins, and broadly black FW tips with clear white spots; outer HW crossed by small black-rimmed blue spots. Below, FW dominantly rose-pink with olive, black, and white pattern; HW has small blue spots on olive background with white webwork. FW above and below has white bar running from costa across black patch near tip.\"}"
   ]
  },
  {
   "cell_type": "code",
   "execution_count": 9,
   "id": "c42ebc79",
   "metadata": {
    "execution": {
     "iopub.execute_input": "2023-06-15T16:56:49.595908Z",
     "iopub.status.busy": "2023-06-15T16:56:49.595605Z",
     "iopub.status.idle": "2023-06-15T16:56:49.622144Z",
     "shell.execute_reply": "2023-06-15T16:56:49.621191Z"
    },
    "papermill": {
     "duration": 0.038543,
     "end_time": "2023-06-15T16:56:49.624513",
     "exception": false,
     "start_time": "2023-06-15T16:56:49.585970",
     "status": "completed"
    },
    "tags": []
   },
   "outputs": [
    {
     "data": {
      "text/html": [
       "<div>\n",
       "<style scoped>\n",
       "    .dataframe tbody tr th:only-of-type {\n",
       "        vertical-align: middle;\n",
       "    }\n",
       "\n",
       "    .dataframe tbody tr th {\n",
       "        vertical-align: top;\n",
       "    }\n",
       "\n",
       "    .dataframe thead th {\n",
       "        text-align: right;\n",
       "    }\n",
       "</style>\n",
       "<table border=\"1\" class=\"dataframe\">\n",
       "  <thead>\n",
       "    <tr style=\"text-align: right;\">\n",
       "      <th></th>\n",
       "      <th>Image_Path</th>\n",
       "      <th>Image_name</th>\n",
       "      <th>name_code</th>\n",
       "      <th>scientific_name</th>\n",
       "      <th>common_name</th>\n",
       "      <th>size</th>\n",
       "      <th>text_description</th>\n",
       "    </tr>\n",
       "  </thead>\n",
       "  <tbody>\n",
       "    <tr>\n",
       "      <th>0</th>\n",
       "      <td>/kaggle/input/butterfly-dataset/leedsbutterfly...</td>\n",
       "      <td>0020155.png</td>\n",
       "      <td>002</td>\n",
       "      <td>Heliconius charitonius</td>\n",
       "      <td>Zebra Longwing</td>\n",
       "      <td>76-78 mm</td>\n",
       "      <td>Wings long and narrow. Jet-black above, banded...</td>\n",
       "    </tr>\n",
       "    <tr>\n",
       "      <th>1</th>\n",
       "      <td>/kaggle/input/butterfly-dataset/leedsbutterfly...</td>\n",
       "      <td>0090177.png</td>\n",
       "      <td>009</td>\n",
       "      <td>Vanessa atalanta</td>\n",
       "      <td>Red Admiral</td>\n",
       "      <td>44-57 mm</td>\n",
       "      <td>FW tip extended, clipped. Above, black with or...</td>\n",
       "    </tr>\n",
       "    <tr>\n",
       "      <th>2</th>\n",
       "      <td>/kaggle/input/butterfly-dataset/leedsbutterfly...</td>\n",
       "      <td>0090201.png</td>\n",
       "      <td>009</td>\n",
       "      <td>Vanessa atalanta</td>\n",
       "      <td>Red Admiral</td>\n",
       "      <td>44-57 mm</td>\n",
       "      <td>FW tip extended, clipped. Above, black with or...</td>\n",
       "    </tr>\n",
       "    <tr>\n",
       "      <th>3</th>\n",
       "      <td>/kaggle/input/butterfly-dataset/leedsbutterfly...</td>\n",
       "      <td>0100038.png</td>\n",
       "      <td>010</td>\n",
       "      <td>Vanessa cardui</td>\n",
       "      <td>Painted Lady</td>\n",
       "      <td>51-57 mm</td>\n",
       "      <td>FW tip extended slightly, rounded. Above, salm...</td>\n",
       "    </tr>\n",
       "    <tr>\n",
       "      <th>4</th>\n",
       "      <td>/kaggle/input/butterfly-dataset/leedsbutterfly...</td>\n",
       "      <td>0070055.png</td>\n",
       "      <td>007</td>\n",
       "      <td>Papilio cresphontes</td>\n",
       "      <td>Giant Swallowtail</td>\n",
       "      <td>86-140 mm</td>\n",
       "      <td>Very large. Long, dark, spoon-shaped tails hav...</td>\n",
       "    </tr>\n",
       "  </tbody>\n",
       "</table>\n",
       "</div>"
      ],
      "text/plain": [
       "                                          Image_Path   Image_name name_code  \\\n",
       "0  /kaggle/input/butterfly-dataset/leedsbutterfly...  0020155.png       002   \n",
       "1  /kaggle/input/butterfly-dataset/leedsbutterfly...  0090177.png       009   \n",
       "2  /kaggle/input/butterfly-dataset/leedsbutterfly...  0090201.png       009   \n",
       "3  /kaggle/input/butterfly-dataset/leedsbutterfly...  0100038.png       010   \n",
       "4  /kaggle/input/butterfly-dataset/leedsbutterfly...  0070055.png       007   \n",
       "\n",
       "          scientific_name        common_name       size  \\\n",
       "0  Heliconius charitonius     Zebra Longwing   76-78 mm   \n",
       "1        Vanessa atalanta        Red Admiral   44-57 mm   \n",
       "2        Vanessa atalanta        Red Admiral   44-57 mm   \n",
       "3          Vanessa cardui       Painted Lady   51-57 mm   \n",
       "4     Papilio cresphontes  Giant Swallowtail  86-140 mm   \n",
       "\n",
       "                                    text_description  \n",
       "0  Wings long and narrow. Jet-black above, banded...  \n",
       "1  FW tip extended, clipped. Above, black with or...  \n",
       "2  FW tip extended, clipped. Above, black with or...  \n",
       "3  FW tip extended slightly, rounded. Above, salm...  \n",
       "4  Very large. Long, dark, spoon-shaped tails hav...  "
      ]
     },
     "execution_count": 9,
     "metadata": {},
     "output_type": "execute_result"
    }
   ],
   "source": [
    "df['name_code'] =  df['Image_name'].apply(lambda x : x[:3])\n",
    "df['scientific_name'] = df['name_code'].map(name)\n",
    "df['common_name'] = df['name_code'].map(common_name)\n",
    "df['size'] = df['name_code'].map(size)\n",
    "df['text_description'] = df['name_code'].map(text_description)\n",
    "df.head()"
   ]
  },
  {
   "cell_type": "code",
   "execution_count": 10,
   "id": "7bf36eef",
   "metadata": {
    "execution": {
     "iopub.execute_input": "2023-06-15T16:56:49.645263Z",
     "iopub.status.busy": "2023-06-15T16:56:49.643804Z",
     "iopub.status.idle": "2023-06-15T16:56:49.654383Z",
     "shell.execute_reply": "2023-06-15T16:56:49.653464Z"
    },
    "papermill": {
     "duration": 0.022633,
     "end_time": "2023-06-15T16:56:49.656606",
     "exception": false,
     "start_time": "2023-06-15T16:56:49.633973",
     "status": "completed"
    },
    "tags": []
   },
   "outputs": [
    {
     "name": "stdout",
     "output_type": "stream",
     "text": [
      "10\n"
     ]
    },
    {
     "data": {
      "text/plain": [
       "Index(['Image_Path', 'Image_name', 'name_code', 'scientific_name',\n",
       "       'common_name', 'size', 'text_description'],\n",
       "      dtype='object')"
      ]
     },
     "execution_count": 10,
     "metadata": {},
     "output_type": "execute_result"
    }
   ],
   "source": [
    "width , height = (299, 299)\n",
    "n_classes = df['scientific_name'].nunique()\n",
    "print(n_classes)\n",
    "df.columns"
   ]
  },
  {
   "cell_type": "code",
   "execution_count": 11,
   "id": "67559a2a",
   "metadata": {
    "execution": {
     "iopub.execute_input": "2023-06-15T16:56:49.675096Z",
     "iopub.status.busy": "2023-06-15T16:56:49.674760Z",
     "iopub.status.idle": "2023-06-15T16:56:49.713564Z",
     "shell.execute_reply": "2023-06-15T16:56:49.712694Z"
    },
    "papermill": {
     "duration": 0.050433,
     "end_time": "2023-06-15T16:56:49.715649",
     "exception": false,
     "start_time": "2023-06-15T16:56:49.665216",
     "status": "completed"
    },
    "tags": []
   },
   "outputs": [
    {
     "name": "stdout",
     "output_type": "stream",
     "text": [
      "Found 583 validated image filenames belonging to 10 classes.\n",
      "Found 249 validated image filenames belonging to 10 classes.\n"
     ]
    }
   ],
   "source": [
    "#preprocessing data :\n",
    "img_generator = tf.keras.preprocessing.image.ImageDataGenerator(#rotation_range=90,\n",
    "                                                                brightness_range=(0.5,1),\n",
    "                                                                #shear_range=0.2,\n",
    "                                                                #zoom_range=0.2,\n",
    "                                                                channel_shift_range=0.2,\n",
    "                                                                horizontal_flip=True,\n",
    "                                                                vertical_flip=True,\n",
    "                                                                rescale=1./255,\n",
    "                                                                validation_split=0.3)\n",
    "\n",
    "\n",
    "img_generator_flow_train = img_generator.flow_from_dataframe(\n",
    "    dataframe=df, # the dataframe containing the filename and label column\n",
    "    directory=\"/kaggle/input/butterfly-dataset/leedsbutterfly/images\", # the directory containing the image files\n",
    "    x_col=\"Image_Path\", # the name of the column with the filenames\n",
    "    y_col=\"scientific_name\", # the name of the column with the labels\n",
    "    target_size=(width, height),\n",
    "    class_mode = \"categorical\", \n",
    "    batch_size=32, \n",
    "    subset=\"training\")\n",
    "\n",
    "img_generator_flow_valid = img_generator.flow_from_dataframe(\n",
    "    dataframe=df, # the dataframe containing the filename and label column\n",
    "    directory=\"/kaggle/input/butterfly-dataset/leedsbutterfly/images\", # the directory containing the image files\n",
    "    x_col=\"Image_Path\", # the name of the column with the filenames\n",
    "    y_col=\"scientific_name\", # the name of the column with the labels\n",
    "    target_size=(width, height),\n",
    "    class_mode = \"categorical\", \n",
    "    batch_size=32, \n",
    "    subset=\"validation\")"
   ]
  },
  {
   "cell_type": "code",
   "execution_count": 12,
   "id": "9ca3a4a9",
   "metadata": {
    "execution": {
     "iopub.execute_input": "2023-06-15T16:56:49.734087Z",
     "iopub.status.busy": "2023-06-15T16:56:49.733798Z",
     "iopub.status.idle": "2023-06-15T16:56:50.122580Z",
     "shell.execute_reply": "2023-06-15T16:56:50.121526Z"
    },
    "papermill": {
     "duration": 0.401118,
     "end_time": "2023-06-15T16:56:50.125510",
     "exception": false,
     "start_time": "2023-06-15T16:56:49.724392",
     "status": "completed"
    },
    "tags": []
   },
   "outputs": [],
   "source": [
    "# Set your variables for your environment\n",
    "EXPERIMENT_NAME=\"butterfly_839photos_10classes\"\n",
    "\n",
    "# Set tracking URI to your Heroku application\n",
    "# mlflow.set_tracking_uri(os.environ[\"APP_URI\"])\n",
    "mlflow.set_tracking_uri(\"https://insects-mlflow.herokuapp.com/\")\n",
    "\n",
    "\n",
    "# Set experiment's info \n",
    "mlflow.set_experiment(EXPERIMENT_NAME)\n",
    "\n",
    "\n",
    "\n",
    "# Get our experiment info\n",
    "experiment = mlflow.get_experiment_by_name(EXPERIMENT_NAME)"
   ]
  },
  {
   "cell_type": "code",
   "execution_count": 13,
   "id": "18a32ca9",
   "metadata": {
    "execution": {
     "iopub.execute_input": "2023-06-15T16:56:50.148029Z",
     "iopub.status.busy": "2023-06-15T16:56:50.146433Z",
     "iopub.status.idle": "2023-06-15T17:43:35.144920Z",
     "shell.execute_reply": "2023-06-15T17:43:35.143886Z"
    },
    "papermill": {
     "duration": 2805.012014,
     "end_time": "2023-06-15T17:43:35.147661",
     "exception": false,
     "start_time": "2023-06-15T16:56:50.135647",
     "status": "completed"
    },
    "tags": []
   },
   "outputs": [
    {
     "name": "stdout",
     "output_type": "stream",
     "text": [
      "Downloading data from https://storage.googleapis.com/tensorflow/keras-applications/inception_v3/inception_v3_weights_tf_dim_ordering_tf_kernels_notop.h5\n",
      "87910968/87910968 [==============================] - 1s 0us/step\n",
      "Model: \"sequential\"\n",
      "_________________________________________________________________\n",
      " Layer (type)                Output Shape              Param #   \n",
      "=================================================================\n",
      " inception_v3 (Functional)   (None, 8, 8, 2048)        21802784  \n",
      "                                                                 \n",
      " global_max_pooling2d (Globa  (None, 2048)             0         \n",
      " lMaxPooling2D)                                                  \n",
      "                                                                 \n",
      " flatten (Flatten)           (None, 2048)              0         \n",
      "                                                                 \n",
      " dense (Dense)               (None, 10)                20490     \n",
      "                                                                 \n",
      "=================================================================\n",
      "Total params: 21,823,274\n",
      "Trainable params: 6,094,026\n",
      "Non-trainable params: 15,729,248\n",
      "_________________________________________________________________\n"
     ]
    },
    {
     "name": "stderr",
     "output_type": "stream",
     "text": [
      "2023/06/15 16:57:01 WARNING mlflow.tensorflow: Unrecognized dataset type <class 'keras.preprocessing.image.DataFrameIterator'>. Dataset logging skipped.\n",
      "2023/06/15 16:57:01 WARNING mlflow.tensorflow: Unrecognized dataset type <class 'keras.preprocessing.image.DataFrameIterator'>. Dataset logging skipped.\n"
     ]
    },
    {
     "name": "stdout",
     "output_type": "stream",
     "text": [
      "Epoch 1/100\n",
      "19/19 [==============================] - 50s 2s/step - loss: 0.7694 - categorical_accuracy: 0.8199 - val_loss: 1.4967 - val_categorical_accuracy: 0.8434\n",
      "Epoch 2/100\n",
      "19/19 [==============================] - 21s 1s/step - loss: 0.0766 - categorical_accuracy: 0.9691 - val_loss: 0.1820 - val_categorical_accuracy: 0.9679\n",
      "Epoch 3/100\n",
      "19/19 [==============================] - 21s 1s/step - loss: 0.0933 - categorical_accuracy: 0.9880 - val_loss: 0.1104 - val_categorical_accuracy: 0.9799\n",
      "Epoch 4/100\n",
      "19/19 [==============================] - 20s 1s/step - loss: 0.0753 - categorical_accuracy: 0.9811 - val_loss: 1.4767 - val_categorical_accuracy: 0.8675\n",
      "Epoch 5/100\n",
      "19/19 [==============================] - 21s 1s/step - loss: 0.0351 - categorical_accuracy: 0.9914 - val_loss: 0.0085 - val_categorical_accuracy: 0.9920\n",
      "Epoch 6/100\n",
      "19/19 [==============================] - 21s 1s/step - loss: 0.0142 - categorical_accuracy: 0.9966 - val_loss: 0.1301 - val_categorical_accuracy: 0.9799\n",
      "Epoch 7/100\n",
      "19/19 [==============================] - 21s 1s/step - loss: 0.0083 - categorical_accuracy: 0.9966 - val_loss: 0.0311 - val_categorical_accuracy: 0.9960\n",
      "Epoch 8/100\n",
      "19/19 [==============================] - 21s 1s/step - loss: 0.0019 - categorical_accuracy: 1.0000 - val_loss: 0.0119 - val_categorical_accuracy: 0.9920\n",
      "Epoch 9/100\n",
      "19/19 [==============================] - 21s 1s/step - loss: 0.0042 - categorical_accuracy: 0.9983 - val_loss: 0.0043 - val_categorical_accuracy: 1.0000\n",
      "Epoch 10/100\n",
      "19/19 [==============================] - 21s 1s/step - loss: 9.2034e-04 - categorical_accuracy: 1.0000 - val_loss: 0.0039 - val_categorical_accuracy: 0.9960\n",
      "Epoch 11/100\n",
      "19/19 [==============================] - 25s 1s/step - loss: 0.0182 - categorical_accuracy: 0.9949 - val_loss: 0.0040 - val_categorical_accuracy: 0.9960\n",
      "Epoch 12/100\n",
      "19/19 [==============================] - 21s 1s/step - loss: 0.0205 - categorical_accuracy: 0.9949 - val_loss: 0.0680 - val_categorical_accuracy: 0.9880\n",
      "Epoch 13/100\n",
      "19/19 [==============================] - 21s 1s/step - loss: 0.0159 - categorical_accuracy: 0.9966 - val_loss: 0.1038 - val_categorical_accuracy: 0.9839\n",
      "Epoch 14/100\n",
      "19/19 [==============================] - 20s 1s/step - loss: 0.0437 - categorical_accuracy: 0.9914 - val_loss: 0.0799 - val_categorical_accuracy: 0.9719\n",
      "Epoch 15/100\n",
      "19/19 [==============================] - 21s 1s/step - loss: 0.0165 - categorical_accuracy: 0.9966 - val_loss: 0.1370 - val_categorical_accuracy: 0.9719\n",
      "Epoch 16/100\n",
      "19/19 [==============================] - 20s 1s/step - loss: 0.0172 - categorical_accuracy: 0.9949 - val_loss: 0.2411 - val_categorical_accuracy: 0.9598\n",
      "Epoch 17/100\n",
      "19/19 [==============================] - 21s 1s/step - loss: 0.0133 - categorical_accuracy: 0.9949 - val_loss: 0.0400 - val_categorical_accuracy: 0.9880\n",
      "Epoch 18/100\n",
      "19/19 [==============================] - 24s 1s/step - loss: 0.0268 - categorical_accuracy: 0.9966 - val_loss: 0.0329 - val_categorical_accuracy: 0.9880\n",
      "Epoch 19/100\n",
      "19/19 [==============================] - 21s 1s/step - loss: 0.0114 - categorical_accuracy: 0.9966 - val_loss: 0.0055 - val_categorical_accuracy: 1.0000\n",
      "Epoch 20/100\n",
      "19/19 [==============================] - 20s 1s/step - loss: 0.0267 - categorical_accuracy: 0.9931 - val_loss: 0.0217 - val_categorical_accuracy: 0.9960\n",
      "Epoch 21/100\n",
      "19/19 [==============================] - 21s 1s/step - loss: 0.0245 - categorical_accuracy: 0.9914 - val_loss: 0.0656 - val_categorical_accuracy: 0.9880\n",
      "Epoch 22/100\n",
      "19/19 [==============================] - 20s 1s/step - loss: 0.0227 - categorical_accuracy: 0.9966 - val_loss: 0.0307 - val_categorical_accuracy: 0.9960\n",
      "Epoch 23/100\n",
      "19/19 [==============================] - 21s 1s/step - loss: 0.0206 - categorical_accuracy: 0.9966 - val_loss: 0.0856 - val_categorical_accuracy: 0.9799\n",
      "Epoch 24/100\n",
      "19/19 [==============================] - 21s 1s/step - loss: 0.0453 - categorical_accuracy: 0.9828 - val_loss: 0.0266 - val_categorical_accuracy: 0.9920\n",
      "Epoch 25/100\n",
      "19/19 [==============================] - 20s 1s/step - loss: 0.0598 - categorical_accuracy: 0.9760 - val_loss: 1.7387 - val_categorical_accuracy: 0.7992\n",
      "Epoch 26/100\n",
      "19/19 [==============================] - 21s 1s/step - loss: 0.0590 - categorical_accuracy: 0.9846 - val_loss: 0.2260 - val_categorical_accuracy: 0.9639\n",
      "Epoch 27/100\n",
      "19/19 [==============================] - 21s 1s/step - loss: 0.0342 - categorical_accuracy: 0.9931 - val_loss: 0.1463 - val_categorical_accuracy: 0.9880\n",
      "Epoch 28/100\n",
      "19/19 [==============================] - 21s 1s/step - loss: 4.4852e-04 - categorical_accuracy: 1.0000 - val_loss: 0.0561 - val_categorical_accuracy: 0.9880\n",
      "Epoch 29/100\n",
      "19/19 [==============================] - 20s 1s/step - loss: 0.0280 - categorical_accuracy: 0.9931 - val_loss: 0.0487 - val_categorical_accuracy: 0.9880\n",
      "Epoch 30/100\n",
      "19/19 [==============================] - 21s 1s/step - loss: 0.0238 - categorical_accuracy: 0.9949 - val_loss: 0.2074 - val_categorical_accuracy: 0.9518\n",
      "Epoch 31/100\n",
      "19/19 [==============================] - 21s 1s/step - loss: 0.0021 - categorical_accuracy: 0.9983 - val_loss: 0.0539 - val_categorical_accuracy: 0.9759\n",
      "Epoch 32/100\n",
      "19/19 [==============================] - 21s 1s/step - loss: 0.0011 - categorical_accuracy: 1.0000 - val_loss: 0.0597 - val_categorical_accuracy: 0.9839\n",
      "Epoch 33/100\n",
      "19/19 [==============================] - 20s 1s/step - loss: 0.0020 - categorical_accuracy: 0.9983 - val_loss: 0.0982 - val_categorical_accuracy: 0.9839\n",
      "Epoch 34/100\n",
      "19/19 [==============================] - 21s 1s/step - loss: 0.0025 - categorical_accuracy: 0.9983 - val_loss: 0.0370 - val_categorical_accuracy: 0.9960\n",
      "Epoch 35/100\n",
      "19/19 [==============================] - 21s 1s/step - loss: 3.0223e-05 - categorical_accuracy: 1.0000 - val_loss: 0.1335 - val_categorical_accuracy: 0.9799\n",
      "Epoch 36/100\n",
      "19/19 [==============================] - 20s 1s/step - loss: 0.0017 - categorical_accuracy: 0.9983 - val_loss: 0.0227 - val_categorical_accuracy: 0.9920\n",
      "Epoch 37/100\n",
      "19/19 [==============================] - 21s 1s/step - loss: 0.0066 - categorical_accuracy: 0.9983 - val_loss: 0.0266 - val_categorical_accuracy: 0.9920\n",
      "Epoch 38/100\n",
      "19/19 [==============================] - 21s 1s/step - loss: 0.0063 - categorical_accuracy: 0.9983 - val_loss: 0.0177 - val_categorical_accuracy: 0.9880\n",
      "Epoch 39/100\n",
      "19/19 [==============================] - 21s 1s/step - loss: 0.0019 - categorical_accuracy: 0.9983 - val_loss: 0.0425 - val_categorical_accuracy: 0.9920\n",
      "Epoch 40/100\n",
      "19/19 [==============================] - 20s 1s/step - loss: 0.0048 - categorical_accuracy: 0.9983 - val_loss: 0.0427 - val_categorical_accuracy: 0.9839\n",
      "Epoch 41/100\n",
      "19/19 [==============================] - 20s 1s/step - loss: 0.0016 - categorical_accuracy: 0.9983 - val_loss: 0.0036 - val_categorical_accuracy: 1.0000\n",
      "Epoch 42/100\n",
      "19/19 [==============================] - 21s 1s/step - loss: 6.9252e-05 - categorical_accuracy: 1.0000 - val_loss: 0.0418 - val_categorical_accuracy: 0.9880\n",
      "Epoch 43/100\n",
      "19/19 [==============================] - 20s 1s/step - loss: 3.9469e-06 - categorical_accuracy: 1.0000 - val_loss: 0.0438 - val_categorical_accuracy: 0.9920\n",
      "Epoch 44/100\n",
      "19/19 [==============================] - 21s 1s/step - loss: 0.0012 - categorical_accuracy: 1.0000 - val_loss: 0.0818 - val_categorical_accuracy: 0.9880\n",
      "Epoch 45/100\n",
      "19/19 [==============================] - 20s 1s/step - loss: 7.1154e-05 - categorical_accuracy: 1.0000 - val_loss: 0.0053 - val_categorical_accuracy: 0.9960\n",
      "Epoch 46/100\n",
      "19/19 [==============================] - 20s 1s/step - loss: 3.9830e-05 - categorical_accuracy: 1.0000 - val_loss: 7.1202e-04 - val_categorical_accuracy: 1.0000\n",
      "Epoch 47/100\n",
      "19/19 [==============================] - 21s 1s/step - loss: 2.5365e-05 - categorical_accuracy: 1.0000 - val_loss: 0.0029 - val_categorical_accuracy: 1.0000\n",
      "Epoch 48/100\n",
      "19/19 [==============================] - 20s 1s/step - loss: 1.0001e-04 - categorical_accuracy: 1.0000 - val_loss: 0.0021 - val_categorical_accuracy: 1.0000\n",
      "Epoch 49/100\n",
      "19/19 [==============================] - 20s 1s/step - loss: 4.4365e-06 - categorical_accuracy: 1.0000 - val_loss: 0.0165 - val_categorical_accuracy: 0.9960\n",
      "Epoch 50/100\n",
      "19/19 [==============================] - 21s 1s/step - loss: 7.4890e-06 - categorical_accuracy: 1.0000 - val_loss: 0.0011 - val_categorical_accuracy: 1.0000\n",
      "Epoch 51/100\n",
      "19/19 [==============================] - 21s 1s/step - loss: 5.3428e-06 - categorical_accuracy: 1.0000 - val_loss: 0.0803 - val_categorical_accuracy: 0.9920\n",
      "Epoch 52/100\n",
      "19/19 [==============================] - 21s 1s/step - loss: 0.0034 - categorical_accuracy: 0.9983 - val_loss: 0.0952 - val_categorical_accuracy: 0.9880\n",
      "Epoch 53/100\n",
      "19/19 [==============================] - 20s 1s/step - loss: 3.5772e-05 - categorical_accuracy: 1.0000 - val_loss: 0.0033 - val_categorical_accuracy: 1.0000\n",
      "Epoch 54/100\n",
      "19/19 [==============================] - 20s 1s/step - loss: 0.0252 - categorical_accuracy: 0.9966 - val_loss: 0.0181 - val_categorical_accuracy: 0.9920\n",
      "Epoch 55/100\n",
      "19/19 [==============================] - 20s 1s/step - loss: 0.1787 - categorical_accuracy: 0.9657 - val_loss: 0.8131 - val_categorical_accuracy: 0.9197\n",
      "Epoch 56/100\n",
      "19/19 [==============================] - 20s 1s/step - loss: 0.0265 - categorical_accuracy: 0.9983 - val_loss: 0.0395 - val_categorical_accuracy: 0.9920\n",
      "Epoch 57/100\n",
      "19/19 [==============================] - 24s 1s/step - loss: 0.0014 - categorical_accuracy: 1.0000 - val_loss: 0.1402 - val_categorical_accuracy: 0.9920\n",
      "Epoch 58/100\n",
      "19/19 [==============================] - 20s 1s/step - loss: 8.4865e-04 - categorical_accuracy: 1.0000 - val_loss: 0.2166 - val_categorical_accuracy: 0.9960\n",
      "Epoch 59/100\n",
      "19/19 [==============================] - 21s 1s/step - loss: 0.0048 - categorical_accuracy: 0.9983 - val_loss: 0.2322 - val_categorical_accuracy: 0.9719\n",
      "Epoch 60/100\n",
      "19/19 [==============================] - 21s 1s/step - loss: 0.0147 - categorical_accuracy: 0.9983 - val_loss: 0.0360 - val_categorical_accuracy: 0.9960\n",
      "Epoch 61/100\n",
      "19/19 [==============================] - 20s 1s/step - loss: 0.0226 - categorical_accuracy: 0.9949 - val_loss: 0.1348 - val_categorical_accuracy: 0.9960\n",
      "Epoch 62/100\n",
      "19/19 [==============================] - 21s 1s/step - loss: 0.0033 - categorical_accuracy: 0.9983 - val_loss: 4.3640e-04 - val_categorical_accuracy: 1.0000\n",
      "Epoch 63/100\n",
      "19/19 [==============================] - 20s 1s/step - loss: 5.4808e-06 - categorical_accuracy: 1.0000 - val_loss: 0.0179 - val_categorical_accuracy: 0.9920\n",
      "Epoch 64/100\n",
      "19/19 [==============================] - 20s 1s/step - loss: 0.0075 - categorical_accuracy: 0.9966 - val_loss: 0.0141 - val_categorical_accuracy: 0.9920\n",
      "Epoch 65/100\n",
      "19/19 [==============================] - 24s 1s/step - loss: 0.1317 - categorical_accuracy: 0.9846 - val_loss: 0.2416 - val_categorical_accuracy: 0.9759\n",
      "Epoch 66/100\n",
      "19/19 [==============================] - 20s 1s/step - loss: 0.0382 - categorical_accuracy: 0.9931 - val_loss: 0.1874 - val_categorical_accuracy: 0.9920\n",
      "Epoch 67/100\n",
      "19/19 [==============================] - 20s 1s/step - loss: 0.0380 - categorical_accuracy: 0.9931 - val_loss: 0.0867 - val_categorical_accuracy: 0.9799\n",
      "Epoch 68/100\n",
      "19/19 [==============================] - 20s 1s/step - loss: 0.0281 - categorical_accuracy: 0.9931 - val_loss: 0.8366 - val_categorical_accuracy: 0.9357\n",
      "Epoch 69/100\n",
      "19/19 [==============================] - 20s 1s/step - loss: 0.0108 - categorical_accuracy: 0.9966 - val_loss: 0.1104 - val_categorical_accuracy: 0.9799\n",
      "Epoch 70/100\n",
      "19/19 [==============================] - 21s 1s/step - loss: 0.0397 - categorical_accuracy: 0.9983 - val_loss: 0.0878 - val_categorical_accuracy: 0.9880\n",
      "Epoch 71/100\n",
      "19/19 [==============================] - 21s 1s/step - loss: 1.8421e-04 - categorical_accuracy: 1.0000 - val_loss: 0.0517 - val_categorical_accuracy: 0.9920\n",
      "Epoch 72/100\n",
      "19/19 [==============================] - 20s 1s/step - loss: 1.9425e-04 - categorical_accuracy: 1.0000 - val_loss: 0.0030 - val_categorical_accuracy: 1.0000\n",
      "Epoch 73/100\n",
      "19/19 [==============================] - 21s 1s/step - loss: 4.7330e-05 - categorical_accuracy: 1.0000 - val_loss: 0.0934 - val_categorical_accuracy: 0.9960\n",
      "Epoch 74/100\n",
      "19/19 [==============================] - 20s 1s/step - loss: 9.4258e-06 - categorical_accuracy: 1.0000 - val_loss: 0.0220 - val_categorical_accuracy: 0.9920\n",
      "Epoch 75/100\n",
      "19/19 [==============================] - 21s 1s/step - loss: 3.4486e-06 - categorical_accuracy: 1.0000 - val_loss: 0.0317 - val_categorical_accuracy: 0.9920\n",
      "Epoch 76/100\n",
      "19/19 [==============================] - 20s 1s/step - loss: 2.5555e-05 - categorical_accuracy: 1.0000 - val_loss: 0.0165 - val_categorical_accuracy: 0.9920\n",
      "Epoch 77/100\n",
      "19/19 [==============================] - 20s 1s/step - loss: 8.4006e-05 - categorical_accuracy: 1.0000 - val_loss: 0.0125 - val_categorical_accuracy: 0.9960\n",
      "Epoch 78/100\n",
      "19/19 [==============================] - 20s 1s/step - loss: 1.0135e-05 - categorical_accuracy: 1.0000 - val_loss: 0.0110 - val_categorical_accuracy: 0.9960\n",
      "Epoch 79/100\n",
      "19/19 [==============================] - 21s 1s/step - loss: 0.0016 - categorical_accuracy: 0.9983 - val_loss: 0.0065 - val_categorical_accuracy: 0.9960\n",
      "Epoch 80/100\n",
      "19/19 [==============================] - 20s 1s/step - loss: 4.5367e-05 - categorical_accuracy: 1.0000 - val_loss: 0.0011 - val_categorical_accuracy: 1.0000\n",
      "Epoch 81/100\n",
      "19/19 [==============================] - 21s 1s/step - loss: 4.0800e-05 - categorical_accuracy: 1.0000 - val_loss: 0.0011 - val_categorical_accuracy: 1.0000\n",
      "Epoch 82/100\n",
      "19/19 [==============================] - 20s 1s/step - loss: 0.0018 - categorical_accuracy: 0.9983 - val_loss: 0.0135 - val_categorical_accuracy: 0.9960\n",
      "Epoch 83/100\n",
      "19/19 [==============================] - 21s 1s/step - loss: 0.0065 - categorical_accuracy: 0.9983 - val_loss: 0.0900 - val_categorical_accuracy: 0.9960\n",
      "Epoch 84/100\n",
      "19/19 [==============================] - 20s 1s/step - loss: 0.0097 - categorical_accuracy: 0.9983 - val_loss: 0.0744 - val_categorical_accuracy: 0.9960\n",
      "Epoch 85/100\n",
      "19/19 [==============================] - 21s 1s/step - loss: 8.9362e-04 - categorical_accuracy: 1.0000 - val_loss: 3.1984e-04 - val_categorical_accuracy: 1.0000\n",
      "Epoch 86/100\n",
      "19/19 [==============================] - 20s 1s/step - loss: 8.0634e-06 - categorical_accuracy: 1.0000 - val_loss: 0.0264 - val_categorical_accuracy: 0.9960\n",
      "Epoch 87/100\n",
      "19/19 [==============================] - 20s 1s/step - loss: 1.2046e-05 - categorical_accuracy: 1.0000 - val_loss: 5.9214e-04 - val_categorical_accuracy: 1.0000\n",
      "Epoch 88/100\n",
      "19/19 [==============================] - 21s 1s/step - loss: 5.4082e-07 - categorical_accuracy: 1.0000 - val_loss: 0.0987 - val_categorical_accuracy: 0.9960\n",
      "Epoch 89/100\n",
      "19/19 [==============================] - 20s 1s/step - loss: 5.1095e-07 - categorical_accuracy: 1.0000 - val_loss: 0.0539 - val_categorical_accuracy: 0.9960\n",
      "Epoch 90/100\n",
      "19/19 [==============================] - 21s 1s/step - loss: 1.6690e-05 - categorical_accuracy: 1.0000 - val_loss: 0.0796 - val_categorical_accuracy: 0.9960\n",
      "Epoch 91/100\n",
      "19/19 [==============================] - 20s 1s/step - loss: 1.1402e-06 - categorical_accuracy: 1.0000 - val_loss: 0.0114 - val_categorical_accuracy: 0.9960\n",
      "Epoch 92/100\n",
      "19/19 [==============================] - 21s 1s/step - loss: 1.4851e-06 - categorical_accuracy: 1.0000 - val_loss: 1.9859e-04 - val_categorical_accuracy: 1.0000\n",
      "Epoch 93/100\n",
      "19/19 [==============================] - 20s 1s/step - loss: 0.0964 - categorical_accuracy: 0.9897 - val_loss: 0.3443 - val_categorical_accuracy: 0.9478\n",
      "Epoch 94/100\n",
      "19/19 [==============================] - 21s 1s/step - loss: 0.0348 - categorical_accuracy: 0.9914 - val_loss: 0.1349 - val_categorical_accuracy: 0.9679\n",
      "Epoch 95/100\n",
      "19/19 [==============================] - 21s 1s/step - loss: 0.0031 - categorical_accuracy: 0.9983 - val_loss: 0.0088 - val_categorical_accuracy: 0.9960\n",
      "Epoch 96/100\n",
      "19/19 [==============================] - 21s 1s/step - loss: 2.8778e-04 - categorical_accuracy: 1.0000 - val_loss: 0.0109 - val_categorical_accuracy: 0.9960\n",
      "Epoch 97/100\n",
      "19/19 [==============================] - 21s 1s/step - loss: 6.6219e-05 - categorical_accuracy: 1.0000 - val_loss: 0.0323 - val_categorical_accuracy: 0.9920\n",
      "Epoch 98/100\n",
      "19/19 [==============================] - 20s 1s/step - loss: 7.9499e-05 - categorical_accuracy: 1.0000 - val_loss: 0.0085 - val_categorical_accuracy: 0.9960\n",
      "Epoch 99/100\n",
      "19/19 [==============================] - 20s 1s/step - loss: 2.5601e-06 - categorical_accuracy: 1.0000 - val_loss: 0.0551 - val_categorical_accuracy: 0.9920\n",
      "Epoch 100/100\n",
      "19/19 [==============================] - 20s 1s/step - loss: 2.4584e-04 - categorical_accuracy: 1.0000 - val_loss: 9.8316e-04 - val_categorical_accuracy: 1.0000\n"
     ]
    },
    {
     "name": "stderr",
     "output_type": "stream",
     "text": [
      "2023/06/15 17:42:23 WARNING mlflow.tensorflow: Failed to infer model signature: could not sample data to infer model signature: '>=' not supported between instances of 'slice' and 'int'\n",
      "2023/06/15 17:42:23 WARNING mlflow.tensorflow: You are saving a TensorFlow Core model or Keras model without a signature. Inference with mlflow.pyfunc.spark_udf() will not work unless the model's pyfunc representation accepts pandas DataFrames as inference inputs.\n",
      "2023/06/15 17:43:34 WARNING mlflow.utils.environment: Encountered an unexpected error while inferring pip requirements (model URI: /tmp/tmp7vpxffev/model, flavor: tensorflow), fall back to return ['tensorflow==2.12.0']. Set logging level to DEBUG to see the full traceback.\n"
     ]
    }
   ],
   "source": [
    "# Call mlflow autolog\n",
    "mlflow.tensorflow.autolog()\n",
    "\n",
    "mlflow.end_run()\n",
    "\n",
    "with mlflow.start_run(experiment_id = experiment.experiment_id):\n",
    "   \n",
    "    mlflow.set_tag(\"user\", \"céline\")\n",
    "    mlflow.set_tag(\"model\", \"inceptionv3\")\n",
    "    mlflow.set_tag(\"description\", \"test on dataset with 10 categories\")\n",
    "    \n",
    "    base_model = tf.keras.applications.inception_v3.InceptionV3(input_shape=(width, height,3),\n",
    "                                               include_top=False,\n",
    "                                               weights = \"imagenet\"\n",
    "                                               )\n",
    "    base_model.trainable = True\n",
    "\n",
    "    fine_tune_at = len(base_model.layers) - 0.1*len(base_model.layers)\n",
    "    fine_tune_at\n",
    "\n",
    "    for layer in base_model.layers[:int(fine_tune_at)]:\n",
    "        layer.trainable = False\n",
    "    model = tf.keras.Sequential([\n",
    "        base_model,\n",
    "        tf.keras.layers.GlobalMaxPooling2D(),\n",
    "        tf.keras.layers.Flatten(),\n",
    "        tf.keras.layers.Dense(n_classes, activation=\"softmax\")\n",
    "    ])\n",
    "    model.summary()\n",
    "\n",
    "    model.compile(optimizer=tf.keras.optimizers.Adam(learning_rate = 0.001),\n",
    "                  loss = tf.keras.losses.CategoricalCrossentropy(),\n",
    "                  metrics = [tf.keras.metrics.CategoricalAccuracy()])\n",
    "    model.fit(img_generator_flow_train, validation_data=img_generator_flow_valid, epochs=100)"
   ]
  },
  {
   "cell_type": "code",
   "execution_count": 14,
   "id": "08e20544",
   "metadata": {
    "execution": {
     "iopub.execute_input": "2023-06-15T17:43:35.480479Z",
     "iopub.status.busy": "2023-06-15T17:43:35.480127Z",
     "iopub.status.idle": "2023-06-15T17:43:35.798709Z",
     "shell.execute_reply": "2023-06-15T17:43:35.797797Z"
    },
    "papermill": {
     "duration": 0.486621,
     "end_time": "2023-06-15T17:43:35.800901",
     "exception": false,
     "start_time": "2023-06-15T17:43:35.314280",
     "status": "completed"
    },
    "tags": []
   },
   "outputs": [
    {
     "data": {
      "image/png": "[encoded data removed]",
      "text/plain": [
       "<Figure size 640x480 with 1 Axes>"
      ]
     },
     "metadata": {},
     "output_type": "display_data"
    }
   ],
   "source": [
    "# Visualise train / Valid Accuracy\n",
    "plt.plot(model.history.history[\"categorical_accuracy\"], c=\"r\", label=\"train_accuracy\")\n",
    "plt.plot(model.history.history[\"val_categorical_accuracy\"], c=\"b\", label=\"test_accuracy\")\n",
    "plt.legend(loc=\"upper left\")\n",
    "plt.show()\n",
    "\n"
   ]
  },
  {
   "cell_type": "code",
   "execution_count": 15,
   "id": "7707e2fe",
   "metadata": {
    "execution": {
     "iopub.execute_input": "2023-06-15T17:43:36.145716Z",
     "iopub.status.busy": "2023-06-15T17:43:36.145360Z",
     "iopub.status.idle": "2023-06-15T17:43:36.410790Z",
     "shell.execute_reply": "2023-06-15T17:43:36.409924Z"
    },
    "papermill": {
     "duration": 0.441064,
     "end_time": "2023-06-15T17:43:36.412811",
     "exception": false,
     "start_time": "2023-06-15T17:43:35.971747",
     "status": "completed"
    },
    "tags": []
   },
   "outputs": [
    {
     "data": {
      "image/png": "[encoded data removed]",
      "text/plain": [
       "<Figure size 640x480 with 1 Axes>"
      ]
     },
     "metadata": {},
     "output_type": "display_data"
    }
   ],
   "source": [
    "# Visualise train / Valid Loss\n",
    "plt.plot(model.history.history[\"loss\"], c=\"r\", label=\"train_loss\")\n",
    "plt.plot(model.history.history[\"val_loss\"], c=\"b\", label=\"test_loss\")\n",
    "plt.legend(loc=\"upper left\")\n",
    "plt.show()\n"
   ]
  },
  {
   "cell_type": "code",
   "execution_count": null,
   "id": "02512160",
   "metadata": {
    "papermill": {
     "duration": 0.175294,
     "end_time": "2023-06-15T17:43:36.763047",
     "exception": false,
     "start_time": "2023-06-15T17:43:36.587753",
     "status": "completed"
    },
    "tags": []
   },
   "outputs": [],
   "source": []
  }
 ],
 "metadata": {
  "kernelspec": {
   "display_name": "Python 3",
   "language": "python",
   "name": "python3"
  },
  "language_info": {
   "codemirror_mode": {
    "name": "ipython",
    "version": 3
   },
   "file_extension": ".py",
   "mimetype": "text/x-python",
   "name": "python",
   "nbconvert_exporter": "python",
   "pygments_lexer": "ipython3",
   "version": "3.10.10"
  },
  "papermill": {
   "default_parameters": {},
   "duration": 2852.239949,
   "end_time": "2023-06-15T17:43:41.078895",
   "environment_variables": {},
   "exception": null,
   "input_path": "__notebook__.ipynb",
   "output_path": "__notebook__.ipynb",
   "parameters": {},
   "start_time": "2023-06-15T16:56:08.838946",
   "version": "2.4.0"
  }
 },
 "nbformat": 4,
 "nbformat_minor": 5
}
